{
 "metadata": {
  "language_info": {
   "codemirror_mode": {
    "name": "ipython",
    "version": 3
   },
   "file_extension": ".py",
   "mimetype": "text/x-python",
   "name": "python",
   "nbconvert_exporter": "python",
   "pygments_lexer": "ipython3",
   "version": "3.8.5-final"
  },
  "orig_nbformat": 2,
  "kernelspec": {
   "name": "python38564bit83dbeaea9f9f488393c0668ef9f98b87",
   "display_name": "Python 3.8.5 64-bit",
   "language": "python"
  }
 },
 "nbformat": 4,
 "nbformat_minor": 2,
 "cells": [
  {
   "cell_type": "code",
   "execution_count": 121,
   "metadata": {},
   "outputs": [],
   "source": [
    "import pandas as pd \n",
    "import numpy as np \n",
    "import matplotlib.pyplot as plt "
   ]
  },
  {
   "cell_type": "code",
   "execution_count": 123,
   "metadata": {},
   "outputs": [
    {
     "output_type": "execute_result",
     "data": {
      "text/plain": [
       "                    id                fecha  codigo_localidad  \\\n",
       "0      CRU-00000002-20  2020-01-01 00:13:40                19   \n",
       "1      CRU-00000002-20  2020-01-01 00:13:40                19   \n",
       "2      CRU-00000005-20  2020-01-01 00:15:14                14   \n",
       "3      CRU-00000024-20  2020-01-01 00:20:50                11   \n",
       "4      CRU-00000036-20  2020-01-01 00:26:05                10   \n",
       "...                ...                  ...               ...   \n",
       "15299  CRU-00038143-20  2020-02-01 00:03:14                18   \n",
       "15300  CRU-00038145-20  2020-02-01 00:03:58                 1   \n",
       "15301  CRU-00038109-20  2020-02-01 00:10:45                19   \n",
       "15302  CRU-00037765-20  2020-02-01 00:55:15                19   \n",
       "15303  CRU-00037858-20  2020-02-01 01:19:50                 8   \n",
       "\n",
       "         nombre_localidad  edad unidad_edad     genero    red  \\\n",
       "0          Ciudad Bolívar     0    SIN_DATO   SIN_DATO    Sur   \n",
       "1          Ciudad Bolívar     0    SIN_DATO   SIN_DATO    Sur   \n",
       "2            Los Mártires     0    SIN_DATO   SIN_DATO  Norte   \n",
       "3                    Suba    58        Años  MASCULINO  Norte   \n",
       "4                Engativá     0    SIN_DATO   SIN_DATO  Norte   \n",
       "...                   ...   ...         ...        ...    ...   \n",
       "15299  Rafael Uribe Uribe    89        Años   FEMENINO    Sur   \n",
       "15300             Usaquén     0    SIN_DATO   SIN_DATO  Norte   \n",
       "15301      Ciudad Bolívar    46        Años  MASCULINO    Sur   \n",
       "15302      Ciudad Bolívar     0    SIN_DATO   SIN_DATO    Sur   \n",
       "15303             Kennedy    16        Años  MASCULINO    Sur   \n",
       "\n",
       "                               tipo_incidente  prioridad  \n",
       "0                                    Heridos           2  \n",
       "1                                    Heridos           2  \n",
       "2      Inconsciente/Paro Cardiorrespiratorio           1  \n",
       "3      Inconsciente/Paro Cardiorrespiratorio           1  \n",
       "4      Inconsciente/Paro Cardiorrespiratorio           1  \n",
       "...                                       ...        ...  \n",
       "15299             Síntomas gastrointestinales          3  \n",
       "15300                     Intento de suicidio          2  \n",
       "15301                        Trastorno mental          3  \n",
       "15302                        Trastorno mental          3  \n",
       "15303                        Trastorno mental          3  \n",
       "\n",
       "[15304 rows x 10 columns]"
      ],
      "text/html": "<div>\n<style scoped>\n    .dataframe tbody tr th:only-of-type {\n        vertical-align: middle;\n    }\n\n    .dataframe tbody tr th {\n        vertical-align: top;\n    }\n\n    .dataframe thead th {\n        text-align: right;\n    }\n</style>\n<table border=\"1\" class=\"dataframe\">\n  <thead>\n    <tr style=\"text-align: right;\">\n      <th></th>\n      <th>id</th>\n      <th>fecha</th>\n      <th>codigo_localidad</th>\n      <th>nombre_localidad</th>\n      <th>edad</th>\n      <th>unidad_edad</th>\n      <th>genero</th>\n      <th>red</th>\n      <th>tipo_incidente</th>\n      <th>prioridad</th>\n    </tr>\n  </thead>\n  <tbody>\n    <tr>\n      <th>0</th>\n      <td>CRU-00000002-20</td>\n      <td>2020-01-01 00:13:40</td>\n      <td>19</td>\n      <td>Ciudad Bolívar</td>\n      <td>0</td>\n      <td>SIN_DATO</td>\n      <td>SIN_DATO</td>\n      <td>Sur</td>\n      <td>Heridos</td>\n      <td>2</td>\n    </tr>\n    <tr>\n      <th>1</th>\n      <td>CRU-00000002-20</td>\n      <td>2020-01-01 00:13:40</td>\n      <td>19</td>\n      <td>Ciudad Bolívar</td>\n      <td>0</td>\n      <td>SIN_DATO</td>\n      <td>SIN_DATO</td>\n      <td>Sur</td>\n      <td>Heridos</td>\n      <td>2</td>\n    </tr>\n    <tr>\n      <th>2</th>\n      <td>CRU-00000005-20</td>\n      <td>2020-01-01 00:15:14</td>\n      <td>14</td>\n      <td>Los Mártires</td>\n      <td>0</td>\n      <td>SIN_DATO</td>\n      <td>SIN_DATO</td>\n      <td>Norte</td>\n      <td>Inconsciente/Paro Cardiorrespiratorio</td>\n      <td>1</td>\n    </tr>\n    <tr>\n      <th>3</th>\n      <td>CRU-00000024-20</td>\n      <td>2020-01-01 00:20:50</td>\n      <td>11</td>\n      <td>Suba</td>\n      <td>58</td>\n      <td>Años</td>\n      <td>MASCULINO</td>\n      <td>Norte</td>\n      <td>Inconsciente/Paro Cardiorrespiratorio</td>\n      <td>1</td>\n    </tr>\n    <tr>\n      <th>4</th>\n      <td>CRU-00000036-20</td>\n      <td>2020-01-01 00:26:05</td>\n      <td>10</td>\n      <td>Engativá</td>\n      <td>0</td>\n      <td>SIN_DATO</td>\n      <td>SIN_DATO</td>\n      <td>Norte</td>\n      <td>Inconsciente/Paro Cardiorrespiratorio</td>\n      <td>1</td>\n    </tr>\n    <tr>\n      <th>...</th>\n      <td>...</td>\n      <td>...</td>\n      <td>...</td>\n      <td>...</td>\n      <td>...</td>\n      <td>...</td>\n      <td>...</td>\n      <td>...</td>\n      <td>...</td>\n      <td>...</td>\n    </tr>\n    <tr>\n      <th>15299</th>\n      <td>CRU-00038143-20</td>\n      <td>2020-02-01 00:03:14</td>\n      <td>18</td>\n      <td>Rafael Uribe Uribe</td>\n      <td>89</td>\n      <td>Años</td>\n      <td>FEMENINO</td>\n      <td>Sur</td>\n      <td>Síntomas gastrointestinales</td>\n      <td>3</td>\n    </tr>\n    <tr>\n      <th>15300</th>\n      <td>CRU-00038145-20</td>\n      <td>2020-02-01 00:03:58</td>\n      <td>1</td>\n      <td>Usaquén</td>\n      <td>0</td>\n      <td>SIN_DATO</td>\n      <td>SIN_DATO</td>\n      <td>Norte</td>\n      <td>Intento de suicidio</td>\n      <td>2</td>\n    </tr>\n    <tr>\n      <th>15301</th>\n      <td>CRU-00038109-20</td>\n      <td>2020-02-01 00:10:45</td>\n      <td>19</td>\n      <td>Ciudad Bolívar</td>\n      <td>46</td>\n      <td>Años</td>\n      <td>MASCULINO</td>\n      <td>Sur</td>\n      <td>Trastorno mental</td>\n      <td>3</td>\n    </tr>\n    <tr>\n      <th>15302</th>\n      <td>CRU-00037765-20</td>\n      <td>2020-02-01 00:55:15</td>\n      <td>19</td>\n      <td>Ciudad Bolívar</td>\n      <td>0</td>\n      <td>SIN_DATO</td>\n      <td>SIN_DATO</td>\n      <td>Sur</td>\n      <td>Trastorno mental</td>\n      <td>3</td>\n    </tr>\n    <tr>\n      <th>15303</th>\n      <td>CRU-00037858-20</td>\n      <td>2020-02-01 01:19:50</td>\n      <td>8</td>\n      <td>Kennedy</td>\n      <td>16</td>\n      <td>Años</td>\n      <td>MASCULINO</td>\n      <td>Sur</td>\n      <td>Trastorno mental</td>\n      <td>3</td>\n    </tr>\n  </tbody>\n</table>\n<p>15304 rows × 10 columns</p>\n</div>"
     },
     "metadata": {},
     "execution_count": 123
    }
   ],
   "source": [
    "datos202001 = pd.read_csv('./datos/202001.csv', sep=';', encoding='latin1')\n",
    "datos202001 = datos202001.iloc[:,:10]\n",
    "datos202001.columns=['id','fecha','codigo_localidad','nombre_localidad','edad','unidad_edad','genero','red','tipo_incidente','prioridad']\n",
    "datos202001"
   ]
  },
  {
   "cell_type": "code",
   "execution_count": 125,
   "metadata": {},
   "outputs": [
    {
     "output_type": "execute_result",
     "data": {
      "text/plain": [
       "                    id                fecha  codigo_localidad  \\\n",
       "0      CRU-00038147-20  2020-02-01 00:45:19                 8   \n",
       "1      CRU-00038149-20  2020-02-01 00:21:48                10   \n",
       "2      CRU-00038153-20  2020-02-01 00:19:51                11   \n",
       "3      CRU-00038155-20  2020-02-01 00:20:12                 9   \n",
       "4      CRU-00038155-20  2020-02-01 00:36:08                 9   \n",
       "...                ...                  ...               ...   \n",
       "17053  CRU-00081324-20  2020-02-29 23:54:44                11   \n",
       "17054  CRU-00081331-20  2020-02-29 23:54:19                 3   \n",
       "17055  CRU-00081335-20  2020-03-01 00:31:50                 7   \n",
       "17056  CRU-00081342-20  2020-02-29 23:58:12                10   \n",
       "17057  CRU-00081343-20  2020-03-01 00:04:27                11   \n",
       "\n",
       "      nombre_localidad  edad unidad_edad     genero      red  \\\n",
       "0              Kennedy     0    SIN_DATO   SIN_DATO      Sur   \n",
       "1             Engativá     0    SIN_DATO   SIN_DATO    Norte   \n",
       "2                 Suba    48        Años  MASCULINO    Norte   \n",
       "3             Fontibón     0    SIN_DATO   SIN_DATO    Norte   \n",
       "4             Fontibón     0    SIN_DATO   SIN_DATO  Privada   \n",
       "...                ...   ...         ...        ...      ...   \n",
       "17053             Suba     0    SIN_DATO   SIN_DATO    Norte   \n",
       "17054         Santa Fe     0    SIN_DATO   SIN_DATO    Norte   \n",
       "17055             Bosa    91        Años   FEMENINO      Sur   \n",
       "17056         Engativá     0    SIN_DATO   SIN_DATO    Norte   \n",
       "17057             Suba     0    SIN_DATO   SIN_DATO    Norte   \n",
       "\n",
       "                    tipo_incidente prioridad  \n",
       "0              Intento de suicidio      ALTA  \n",
       "1                         Heridos       ALTA  \n",
       "2                   Dolor torácico      ALTA  \n",
       "3                         Heridos       ALTA  \n",
       "4                         Heridos       ALTA  \n",
       "...                            ...       ...  \n",
       "17053         Violencia Sexual       CRITICA  \n",
       "17054                     Heridos       ALTA  \n",
       "17055  Síntomas gastrointestinales      ALTA  \n",
       "17056          Intento de suicidio      ALTA  \n",
       "17057               Dolor torácico      ALTA  \n",
       "\n",
       "[17058 rows x 10 columns]"
      ],
      "text/html": "<div>\n<style scoped>\n    .dataframe tbody tr th:only-of-type {\n        vertical-align: middle;\n    }\n\n    .dataframe tbody tr th {\n        vertical-align: top;\n    }\n\n    .dataframe thead th {\n        text-align: right;\n    }\n</style>\n<table border=\"1\" class=\"dataframe\">\n  <thead>\n    <tr style=\"text-align: right;\">\n      <th></th>\n      <th>id</th>\n      <th>fecha</th>\n      <th>codigo_localidad</th>\n      <th>nombre_localidad</th>\n      <th>edad</th>\n      <th>unidad_edad</th>\n      <th>genero</th>\n      <th>red</th>\n      <th>tipo_incidente</th>\n      <th>prioridad</th>\n    </tr>\n  </thead>\n  <tbody>\n    <tr>\n      <th>0</th>\n      <td>CRU-00038147-20</td>\n      <td>2020-02-01 00:45:19</td>\n      <td>8</td>\n      <td>Kennedy</td>\n      <td>0</td>\n      <td>SIN_DATO</td>\n      <td>SIN_DATO</td>\n      <td>Sur</td>\n      <td>Intento de suicidio</td>\n      <td>ALTA</td>\n    </tr>\n    <tr>\n      <th>1</th>\n      <td>CRU-00038149-20</td>\n      <td>2020-02-01 00:21:48</td>\n      <td>10</td>\n      <td>Engativá</td>\n      <td>0</td>\n      <td>SIN_DATO</td>\n      <td>SIN_DATO</td>\n      <td>Norte</td>\n      <td>Heridos</td>\n      <td>ALTA</td>\n    </tr>\n    <tr>\n      <th>2</th>\n      <td>CRU-00038153-20</td>\n      <td>2020-02-01 00:19:51</td>\n      <td>11</td>\n      <td>Suba</td>\n      <td>48</td>\n      <td>Años</td>\n      <td>MASCULINO</td>\n      <td>Norte</td>\n      <td>Dolor torácico</td>\n      <td>ALTA</td>\n    </tr>\n    <tr>\n      <th>3</th>\n      <td>CRU-00038155-20</td>\n      <td>2020-02-01 00:20:12</td>\n      <td>9</td>\n      <td>Fontibón</td>\n      <td>0</td>\n      <td>SIN_DATO</td>\n      <td>SIN_DATO</td>\n      <td>Norte</td>\n      <td>Heridos</td>\n      <td>ALTA</td>\n    </tr>\n    <tr>\n      <th>4</th>\n      <td>CRU-00038155-20</td>\n      <td>2020-02-01 00:36:08</td>\n      <td>9</td>\n      <td>Fontibón</td>\n      <td>0</td>\n      <td>SIN_DATO</td>\n      <td>SIN_DATO</td>\n      <td>Privada</td>\n      <td>Heridos</td>\n      <td>ALTA</td>\n    </tr>\n    <tr>\n      <th>...</th>\n      <td>...</td>\n      <td>...</td>\n      <td>...</td>\n      <td>...</td>\n      <td>...</td>\n      <td>...</td>\n      <td>...</td>\n      <td>...</td>\n      <td>...</td>\n      <td>...</td>\n    </tr>\n    <tr>\n      <th>17053</th>\n      <td>CRU-00081324-20</td>\n      <td>2020-02-29 23:54:44</td>\n      <td>11</td>\n      <td>Suba</td>\n      <td>0</td>\n      <td>SIN_DATO</td>\n      <td>SIN_DATO</td>\n      <td>Norte</td>\n      <td>Violencia Sexual</td>\n      <td>CRITICA</td>\n    </tr>\n    <tr>\n      <th>17054</th>\n      <td>CRU-00081331-20</td>\n      <td>2020-02-29 23:54:19</td>\n      <td>3</td>\n      <td>Santa Fe</td>\n      <td>0</td>\n      <td>SIN_DATO</td>\n      <td>SIN_DATO</td>\n      <td>Norte</td>\n      <td>Heridos</td>\n      <td>ALTA</td>\n    </tr>\n    <tr>\n      <th>17055</th>\n      <td>CRU-00081335-20</td>\n      <td>2020-03-01 00:31:50</td>\n      <td>7</td>\n      <td>Bosa</td>\n      <td>91</td>\n      <td>Años</td>\n      <td>FEMENINO</td>\n      <td>Sur</td>\n      <td>Síntomas gastrointestinales</td>\n      <td>ALTA</td>\n    </tr>\n    <tr>\n      <th>17056</th>\n      <td>CRU-00081342-20</td>\n      <td>2020-02-29 23:58:12</td>\n      <td>10</td>\n      <td>Engativá</td>\n      <td>0</td>\n      <td>SIN_DATO</td>\n      <td>SIN_DATO</td>\n      <td>Norte</td>\n      <td>Intento de suicidio</td>\n      <td>ALTA</td>\n    </tr>\n    <tr>\n      <th>17057</th>\n      <td>CRU-00081343-20</td>\n      <td>2020-03-01 00:04:27</td>\n      <td>11</td>\n      <td>Suba</td>\n      <td>0</td>\n      <td>SIN_DATO</td>\n      <td>SIN_DATO</td>\n      <td>Norte</td>\n      <td>Dolor torácico</td>\n      <td>ALTA</td>\n    </tr>\n  </tbody>\n</table>\n<p>17058 rows × 10 columns</p>\n</div>"
     },
     "metadata": {},
     "execution_count": 125
    }
   ],
   "source": [
    "datos202002 = pd.read_csv('./datos/202002.csv', sep=';', encoding='latin1')\n",
    "datos202002.columns=['id','fecha','codigo_localidad','nombre_localidad','edad','unidad_edad','genero','red','tipo_incidente','prioridad']\n",
    "datos202002"
   ]
  },
  {
   "cell_type": "code",
   "execution_count": 127,
   "metadata": {},
   "outputs": [
    {
     "output_type": "execute_result",
     "data": {
      "text/plain": [
       "                    id                fecha  codigo_localidad  \\\n",
       "0      CRU-00081349-20  2020-03-01 00:07:37                12   \n",
       "1      CRU-00081351-20  2020-03-01 02:28:59                 1   \n",
       "2      CRU-00081353-20  2020-03-01 00:21:13                 4   \n",
       "3      CRU-00081356-20  2020-03-01 00:40:00                16   \n",
       "4      CRU-00081357-20  2020-03-01 00:18:26                 8   \n",
       "...                ...                  ...               ...   \n",
       "14612  CRU-00206014-20  2020-04-01 00:00:32                 7   \n",
       "14613  CRU-00206016-20  2020-03-31 23:53:11                19   \n",
       "14614  CRU-00206017-20  2020-04-01 00:04:42                 8   \n",
       "14615  CRU-00206022-20  2020-03-31 23:59:06                16   \n",
       "14616  CRU-00206035-20  2020-04-01 00:05:49                 5   \n",
       "\n",
       "      nombre_localidad      edad unidad_edad     genero      red  \\\n",
       "0       Barrios Unidos  SIN_DATO    SIN_DATO   SIN_DATO    Norte   \n",
       "1              Usaquén  SIN_DATO    SIN_DATO   SIN_DATO    Norte   \n",
       "2        San Cristóbal  SIN_DATO    SIN_DATO   SIN_DATO      Sur   \n",
       "3        Puente Aranda        85        Años   FEMENINO  Privada   \n",
       "4              Kennedy        78        Años   FEMENINO      Sur   \n",
       "...                ...       ...         ...        ...      ...   \n",
       "14612             Bosa        36        Años   FEMENINO      Sur   \n",
       "14613   Ciudad Bolívar        20        Años   FEMENINO      Sur   \n",
       "14614          Kennedy  SIN_DATO    SIN_DATO   SIN_DATO      Sur   \n",
       "14615    Puente Aranda        20        Años  MASCULINO      Sur   \n",
       "14616             Usme        65        Años   FEMENINO      Sur   \n",
       "\n",
       "                       tipo_incidente prioridad  \n",
       "0                           Heridos        ALTA  \n",
       "1                   Trastorno mental      MEDIA  \n",
       "2                           Heridos        ALTA  \n",
       "3                           Heridos       MEDIA  \n",
       "4            Dificultad Respiratoria       ALTA  \n",
       "...                               ...       ...  \n",
       "14612  Patología Gineco - obstétrica       ALTA  \n",
       "14613                  Convulsiones        ALTA  \n",
       "14614            Intento de suicidio       ALTA  \n",
       "14615            Intento de suicidio       ALTA  \n",
       "14616                 Dolor torácico       ALTA  \n",
       "\n",
       "[14617 rows x 10 columns]"
      ],
      "text/html": "<div>\n<style scoped>\n    .dataframe tbody tr th:only-of-type {\n        vertical-align: middle;\n    }\n\n    .dataframe tbody tr th {\n        vertical-align: top;\n    }\n\n    .dataframe thead th {\n        text-align: right;\n    }\n</style>\n<table border=\"1\" class=\"dataframe\">\n  <thead>\n    <tr style=\"text-align: right;\">\n      <th></th>\n      <th>id</th>\n      <th>fecha</th>\n      <th>codigo_localidad</th>\n      <th>nombre_localidad</th>\n      <th>edad</th>\n      <th>unidad_edad</th>\n      <th>genero</th>\n      <th>red</th>\n      <th>tipo_incidente</th>\n      <th>prioridad</th>\n    </tr>\n  </thead>\n  <tbody>\n    <tr>\n      <th>0</th>\n      <td>CRU-00081349-20</td>\n      <td>2020-03-01 00:07:37</td>\n      <td>12</td>\n      <td>Barrios Unidos</td>\n      <td>SIN_DATO</td>\n      <td>SIN_DATO</td>\n      <td>SIN_DATO</td>\n      <td>Norte</td>\n      <td>Heridos</td>\n      <td>ALTA</td>\n    </tr>\n    <tr>\n      <th>1</th>\n      <td>CRU-00081351-20</td>\n      <td>2020-03-01 02:28:59</td>\n      <td>1</td>\n      <td>Usaquén</td>\n      <td>SIN_DATO</td>\n      <td>SIN_DATO</td>\n      <td>SIN_DATO</td>\n      <td>Norte</td>\n      <td>Trastorno mental</td>\n      <td>MEDIA</td>\n    </tr>\n    <tr>\n      <th>2</th>\n      <td>CRU-00081353-20</td>\n      <td>2020-03-01 00:21:13</td>\n      <td>4</td>\n      <td>San Cristóbal</td>\n      <td>SIN_DATO</td>\n      <td>SIN_DATO</td>\n      <td>SIN_DATO</td>\n      <td>Sur</td>\n      <td>Heridos</td>\n      <td>ALTA</td>\n    </tr>\n    <tr>\n      <th>3</th>\n      <td>CRU-00081356-20</td>\n      <td>2020-03-01 00:40:00</td>\n      <td>16</td>\n      <td>Puente Aranda</td>\n      <td>85</td>\n      <td>Años</td>\n      <td>FEMENINO</td>\n      <td>Privada</td>\n      <td>Heridos</td>\n      <td>MEDIA</td>\n    </tr>\n    <tr>\n      <th>4</th>\n      <td>CRU-00081357-20</td>\n      <td>2020-03-01 00:18:26</td>\n      <td>8</td>\n      <td>Kennedy</td>\n      <td>78</td>\n      <td>Años</td>\n      <td>FEMENINO</td>\n      <td>Sur</td>\n      <td>Dificultad Respiratoria</td>\n      <td>ALTA</td>\n    </tr>\n    <tr>\n      <th>...</th>\n      <td>...</td>\n      <td>...</td>\n      <td>...</td>\n      <td>...</td>\n      <td>...</td>\n      <td>...</td>\n      <td>...</td>\n      <td>...</td>\n      <td>...</td>\n      <td>...</td>\n    </tr>\n    <tr>\n      <th>14612</th>\n      <td>CRU-00206014-20</td>\n      <td>2020-04-01 00:00:32</td>\n      <td>7</td>\n      <td>Bosa</td>\n      <td>36</td>\n      <td>Años</td>\n      <td>FEMENINO</td>\n      <td>Sur</td>\n      <td>Patología Gineco - obstétrica</td>\n      <td>ALTA</td>\n    </tr>\n    <tr>\n      <th>14613</th>\n      <td>CRU-00206016-20</td>\n      <td>2020-03-31 23:53:11</td>\n      <td>19</td>\n      <td>Ciudad Bolívar</td>\n      <td>20</td>\n      <td>Años</td>\n      <td>FEMENINO</td>\n      <td>Sur</td>\n      <td>Convulsiones</td>\n      <td>ALTA</td>\n    </tr>\n    <tr>\n      <th>14614</th>\n      <td>CRU-00206017-20</td>\n      <td>2020-04-01 00:04:42</td>\n      <td>8</td>\n      <td>Kennedy</td>\n      <td>SIN_DATO</td>\n      <td>SIN_DATO</td>\n      <td>SIN_DATO</td>\n      <td>Sur</td>\n      <td>Intento de suicidio</td>\n      <td>ALTA</td>\n    </tr>\n    <tr>\n      <th>14615</th>\n      <td>CRU-00206022-20</td>\n      <td>2020-03-31 23:59:06</td>\n      <td>16</td>\n      <td>Puente Aranda</td>\n      <td>20</td>\n      <td>Años</td>\n      <td>MASCULINO</td>\n      <td>Sur</td>\n      <td>Intento de suicidio</td>\n      <td>ALTA</td>\n    </tr>\n    <tr>\n      <th>14616</th>\n      <td>CRU-00206035-20</td>\n      <td>2020-04-01 00:05:49</td>\n      <td>5</td>\n      <td>Usme</td>\n      <td>65</td>\n      <td>Años</td>\n      <td>FEMENINO</td>\n      <td>Sur</td>\n      <td>Dolor torácico</td>\n      <td>ALTA</td>\n    </tr>\n  </tbody>\n</table>\n<p>14617 rows × 10 columns</p>\n</div>"
     },
     "metadata": {},
     "execution_count": 127
    }
   ],
   "source": [
    "datos202003 = pd.read_csv('./datos/202003.csv', sep=',', encoding='latin1')\n",
    "datos202003.columns=['id','fecha','codigo_localidad','nombre_localidad','edad','unidad_edad','genero','red','tipo_incidente','prioridad']\n",
    "datos202003"
   ]
  },
  {
   "cell_type": "code",
   "execution_count": 129,
   "metadata": {},
   "outputs": [
    {
     "output_type": "execute_result",
     "data": {
      "text/plain": [
       "                    id                fecha  codigo_localidad  \\\n",
       "0      CRU-00206474-20  2020-04-01 05:59:41                 8   \n",
       "1      CRU-00206776-20  2020-04-01 08:40:19                 3   \n",
       "2      CRU-00223640-20  2020-04-05 06:32:10                18   \n",
       "3      CRU-00223640-20  2020-04-05 06:34:01                18   \n",
       "4      CRU-00207060-20  2020-04-01 09:09:37                15   \n",
       "...                ...                  ...               ...   \n",
       "10689  CRU-00300018-20  2020-04-30 00:34:00                 8   \n",
       "10690  CRU-00299833-20  2020-04-29 21:43:31                16   \n",
       "10691  CRU-00294664-20  2020-04-27 21:08:29                15   \n",
       "10692  CRU-00300882-20  2020-04-30 11:38:19                 4   \n",
       "10693  CRU-00300722-20  2020-04-30 10:29:43                 8   \n",
       "\n",
       "         nombre_localidad edad unidad_edad     genero      red  \\\n",
       "0                 Kennedy   27        Años  MASCULINO  Privada   \n",
       "1                Santa Fe   19        Años   FEMENINO  Privada   \n",
       "2      Rafael Uribe Uribe   18        Años  MASCULINO  Privada   \n",
       "3      Rafael Uribe Uribe   38        Años   FEMENINO  Privada   \n",
       "4          Antonio Nariño   57        Años  MASCULINO  Privada   \n",
       "...                   ...  ...         ...        ...      ...   \n",
       "10689             Kennedy   58        Años  MASCULINO      Sur   \n",
       "10690       Puente Aranda   16        Años  MASCULINO  Privada   \n",
       "10691      Antonio Nariño   30        Años   FEMENINO      Sur   \n",
       "10692       San Cristóbal   27        Años   FEMENINO  Privada   \n",
       "10693             Kennedy   61        Años  MASCULINO  Privada   \n",
       "\n",
       "                               tipo_incidente prioridad  \n",
       "0                                      Herido   CRITICA  \n",
       "1                   Patología Ginecobstétrica      ALTA  \n",
       "2                                      Herido      ALTA  \n",
       "3                                      Herido      ALTA  \n",
       "4                                     Enfermo     MEDIA  \n",
       "...                                       ...       ...  \n",
       "10689  Inconsciente / Paro cardiorespiratorio   CRITICA  \n",
       "10690                                  Herido      ALTA  \n",
       "10691              Accidente Cerebro Vascular   CRITICA  \n",
       "10692  Inconsciente / Paro cardiorespiratorio   CRITICA  \n",
       "10693  Inconsciente / Paro cardiorespiratorio   CRITICA  \n",
       "\n",
       "[10694 rows x 10 columns]"
      ],
      "text/html": "<div>\n<style scoped>\n    .dataframe tbody tr th:only-of-type {\n        vertical-align: middle;\n    }\n\n    .dataframe tbody tr th {\n        vertical-align: top;\n    }\n\n    .dataframe thead th {\n        text-align: right;\n    }\n</style>\n<table border=\"1\" class=\"dataframe\">\n  <thead>\n    <tr style=\"text-align: right;\">\n      <th></th>\n      <th>id</th>\n      <th>fecha</th>\n      <th>codigo_localidad</th>\n      <th>nombre_localidad</th>\n      <th>edad</th>\n      <th>unidad_edad</th>\n      <th>genero</th>\n      <th>red</th>\n      <th>tipo_incidente</th>\n      <th>prioridad</th>\n    </tr>\n  </thead>\n  <tbody>\n    <tr>\n      <th>0</th>\n      <td>CRU-00206474-20</td>\n      <td>2020-04-01 05:59:41</td>\n      <td>8</td>\n      <td>Kennedy</td>\n      <td>27</td>\n      <td>Años</td>\n      <td>MASCULINO</td>\n      <td>Privada</td>\n      <td>Herido</td>\n      <td>CRITICA</td>\n    </tr>\n    <tr>\n      <th>1</th>\n      <td>CRU-00206776-20</td>\n      <td>2020-04-01 08:40:19</td>\n      <td>3</td>\n      <td>Santa Fe</td>\n      <td>19</td>\n      <td>Años</td>\n      <td>FEMENINO</td>\n      <td>Privada</td>\n      <td>Patología Ginecobstétrica</td>\n      <td>ALTA</td>\n    </tr>\n    <tr>\n      <th>2</th>\n      <td>CRU-00223640-20</td>\n      <td>2020-04-05 06:32:10</td>\n      <td>18</td>\n      <td>Rafael Uribe Uribe</td>\n      <td>18</td>\n      <td>Años</td>\n      <td>MASCULINO</td>\n      <td>Privada</td>\n      <td>Herido</td>\n      <td>ALTA</td>\n    </tr>\n    <tr>\n      <th>3</th>\n      <td>CRU-00223640-20</td>\n      <td>2020-04-05 06:34:01</td>\n      <td>18</td>\n      <td>Rafael Uribe Uribe</td>\n      <td>38</td>\n      <td>Años</td>\n      <td>FEMENINO</td>\n      <td>Privada</td>\n      <td>Herido</td>\n      <td>ALTA</td>\n    </tr>\n    <tr>\n      <th>4</th>\n      <td>CRU-00207060-20</td>\n      <td>2020-04-01 09:09:37</td>\n      <td>15</td>\n      <td>Antonio Nariño</td>\n      <td>57</td>\n      <td>Años</td>\n      <td>MASCULINO</td>\n      <td>Privada</td>\n      <td>Enfermo</td>\n      <td>MEDIA</td>\n    </tr>\n    <tr>\n      <th>...</th>\n      <td>...</td>\n      <td>...</td>\n      <td>...</td>\n      <td>...</td>\n      <td>...</td>\n      <td>...</td>\n      <td>...</td>\n      <td>...</td>\n      <td>...</td>\n      <td>...</td>\n    </tr>\n    <tr>\n      <th>10689</th>\n      <td>CRU-00300018-20</td>\n      <td>2020-04-30 00:34:00</td>\n      <td>8</td>\n      <td>Kennedy</td>\n      <td>58</td>\n      <td>Años</td>\n      <td>MASCULINO</td>\n      <td>Sur</td>\n      <td>Inconsciente / Paro cardiorespiratorio</td>\n      <td>CRITICA</td>\n    </tr>\n    <tr>\n      <th>10690</th>\n      <td>CRU-00299833-20</td>\n      <td>2020-04-29 21:43:31</td>\n      <td>16</td>\n      <td>Puente Aranda</td>\n      <td>16</td>\n      <td>Años</td>\n      <td>MASCULINO</td>\n      <td>Privada</td>\n      <td>Herido</td>\n      <td>ALTA</td>\n    </tr>\n    <tr>\n      <th>10691</th>\n      <td>CRU-00294664-20</td>\n      <td>2020-04-27 21:08:29</td>\n      <td>15</td>\n      <td>Antonio Nariño</td>\n      <td>30</td>\n      <td>Años</td>\n      <td>FEMENINO</td>\n      <td>Sur</td>\n      <td>Accidente Cerebro Vascular</td>\n      <td>CRITICA</td>\n    </tr>\n    <tr>\n      <th>10692</th>\n      <td>CRU-00300882-20</td>\n      <td>2020-04-30 11:38:19</td>\n      <td>4</td>\n      <td>San Cristóbal</td>\n      <td>27</td>\n      <td>Años</td>\n      <td>FEMENINO</td>\n      <td>Privada</td>\n      <td>Inconsciente / Paro cardiorespiratorio</td>\n      <td>CRITICA</td>\n    </tr>\n    <tr>\n      <th>10693</th>\n      <td>CRU-00300722-20</td>\n      <td>2020-04-30 10:29:43</td>\n      <td>8</td>\n      <td>Kennedy</td>\n      <td>61</td>\n      <td>Años</td>\n      <td>MASCULINO</td>\n      <td>Privada</td>\n      <td>Inconsciente / Paro cardiorespiratorio</td>\n      <td>CRITICA</td>\n    </tr>\n  </tbody>\n</table>\n<p>10694 rows × 10 columns</p>\n</div>"
     },
     "metadata": {},
     "execution_count": 129
    }
   ],
   "source": [
    "datos202004 = pd.read_csv('./datos/202004.csv', sep=',', encoding='latin1')\n",
    "datos202004.columns=['id','fecha','codigo_localidad','nombre_localidad','edad','unidad_edad','genero','red','tipo_incidente','prioridad']\n",
    "datos202004"
   ]
  },
  {
   "cell_type": "code",
   "execution_count": 131,
   "metadata": {},
   "outputs": [
    {
     "output_type": "execute_result",
     "data": {
      "text/plain": [
       "                    id                fecha  codigo_localidad  \\\n",
       "0      CRU-00302425-20  2020-05-01 00:01:06                 4   \n",
       "1      CRU-00302427-20  2020-05-01 00:02:22                 8   \n",
       "2      CRU-00302430-20  2020-05-01 00:06:30                18   \n",
       "3      CRU-00302433-20  2020-05-01 00:09:38                 8   \n",
       "4      CRU-00302434-20  2020-05-01 00:10:17                 8   \n",
       "...                ...                  ...               ...   \n",
       "12748  CRU-00381006-20  2020-05-31 23:47:25                15   \n",
       "12749  CRU-00381007-20  2020-05-31 23:47:33                10   \n",
       "12750  CRU-00381008-20  2020-05-31 23:47:49                19   \n",
       "12751  CRU-00381009-20  2020-05-31 23:52:29                19   \n",
       "12752  CRU-00381012-20  2020-05-31 23:54:30                11   \n",
       "\n",
       "         nombre_localidad      edad unidad_edad     genero      red  \\\n",
       "0           San Cristóbal        16        Años   FEMENINO      Sur   \n",
       "1                 Kennedy        49        Años  MASCULINO    Norte   \n",
       "2      Rafael Uribe Uribe        93        Años  MASCULINO      Sur   \n",
       "3                 Kennedy  SIN_DATO    SIN_DATO   SIN_DATO      Sur   \n",
       "4                 Kennedy  SIN_DATO    SIN_DATO   SIN_DATO      Sur   \n",
       "...                   ...       ...         ...        ...      ...   \n",
       "12748      Antonio Nariño        49        Años  MASCULINO  Privada   \n",
       "12749            Engativá        91        Años   FEMENINO    Norte   \n",
       "12750      Ciudad Bolívar        33        Años   FEMENINO      Sur   \n",
       "12751      Ciudad Bolívar        82        Años  MASCULINO      Sur   \n",
       "12752                Suba        68        Años   FEMENINO    Norte   \n",
       "\n",
       "            tipo_incidente prioridad  \n",
       "0      Intento de Suicidio      ALTA  \n",
       "1           Dolor Torácico   CRITICA  \n",
       "2      Evento Respiratorio   CRITICA  \n",
       "3                  Enfermo   CRITICA  \n",
       "4           Dolor Torácico      ALTA  \n",
       "...                    ...       ...  \n",
       "12748               Herido      ALTA  \n",
       "12749  Evento Respiratorio      ALTA  \n",
       "12750       Dolor Torácico   CRITICA  \n",
       "12751  Evento Respiratorio     MEDIA  \n",
       "12752              Enfermo      ALTA  \n",
       "\n",
       "[12753 rows x 10 columns]"
      ],
      "text/html": "<div>\n<style scoped>\n    .dataframe tbody tr th:only-of-type {\n        vertical-align: middle;\n    }\n\n    .dataframe tbody tr th {\n        vertical-align: top;\n    }\n\n    .dataframe thead th {\n        text-align: right;\n    }\n</style>\n<table border=\"1\" class=\"dataframe\">\n  <thead>\n    <tr style=\"text-align: right;\">\n      <th></th>\n      <th>id</th>\n      <th>fecha</th>\n      <th>codigo_localidad</th>\n      <th>nombre_localidad</th>\n      <th>edad</th>\n      <th>unidad_edad</th>\n      <th>genero</th>\n      <th>red</th>\n      <th>tipo_incidente</th>\n      <th>prioridad</th>\n    </tr>\n  </thead>\n  <tbody>\n    <tr>\n      <th>0</th>\n      <td>CRU-00302425-20</td>\n      <td>2020-05-01 00:01:06</td>\n      <td>4</td>\n      <td>San Cristóbal</td>\n      <td>16</td>\n      <td>Años</td>\n      <td>FEMENINO</td>\n      <td>Sur</td>\n      <td>Intento de Suicidio</td>\n      <td>ALTA</td>\n    </tr>\n    <tr>\n      <th>1</th>\n      <td>CRU-00302427-20</td>\n      <td>2020-05-01 00:02:22</td>\n      <td>8</td>\n      <td>Kennedy</td>\n      <td>49</td>\n      <td>Años</td>\n      <td>MASCULINO</td>\n      <td>Norte</td>\n      <td>Dolor Torácico</td>\n      <td>CRITICA</td>\n    </tr>\n    <tr>\n      <th>2</th>\n      <td>CRU-00302430-20</td>\n      <td>2020-05-01 00:06:30</td>\n      <td>18</td>\n      <td>Rafael Uribe Uribe</td>\n      <td>93</td>\n      <td>Años</td>\n      <td>MASCULINO</td>\n      <td>Sur</td>\n      <td>Evento Respiratorio</td>\n      <td>CRITICA</td>\n    </tr>\n    <tr>\n      <th>3</th>\n      <td>CRU-00302433-20</td>\n      <td>2020-05-01 00:09:38</td>\n      <td>8</td>\n      <td>Kennedy</td>\n      <td>SIN_DATO</td>\n      <td>SIN_DATO</td>\n      <td>SIN_DATO</td>\n      <td>Sur</td>\n      <td>Enfermo</td>\n      <td>CRITICA</td>\n    </tr>\n    <tr>\n      <th>4</th>\n      <td>CRU-00302434-20</td>\n      <td>2020-05-01 00:10:17</td>\n      <td>8</td>\n      <td>Kennedy</td>\n      <td>SIN_DATO</td>\n      <td>SIN_DATO</td>\n      <td>SIN_DATO</td>\n      <td>Sur</td>\n      <td>Dolor Torácico</td>\n      <td>ALTA</td>\n    </tr>\n    <tr>\n      <th>...</th>\n      <td>...</td>\n      <td>...</td>\n      <td>...</td>\n      <td>...</td>\n      <td>...</td>\n      <td>...</td>\n      <td>...</td>\n      <td>...</td>\n      <td>...</td>\n      <td>...</td>\n    </tr>\n    <tr>\n      <th>12748</th>\n      <td>CRU-00381006-20</td>\n      <td>2020-05-31 23:47:25</td>\n      <td>15</td>\n      <td>Antonio Nariño</td>\n      <td>49</td>\n      <td>Años</td>\n      <td>MASCULINO</td>\n      <td>Privada</td>\n      <td>Herido</td>\n      <td>ALTA</td>\n    </tr>\n    <tr>\n      <th>12749</th>\n      <td>CRU-00381007-20</td>\n      <td>2020-05-31 23:47:33</td>\n      <td>10</td>\n      <td>Engativá</td>\n      <td>91</td>\n      <td>Años</td>\n      <td>FEMENINO</td>\n      <td>Norte</td>\n      <td>Evento Respiratorio</td>\n      <td>ALTA</td>\n    </tr>\n    <tr>\n      <th>12750</th>\n      <td>CRU-00381008-20</td>\n      <td>2020-05-31 23:47:49</td>\n      <td>19</td>\n      <td>Ciudad Bolívar</td>\n      <td>33</td>\n      <td>Años</td>\n      <td>FEMENINO</td>\n      <td>Sur</td>\n      <td>Dolor Torácico</td>\n      <td>CRITICA</td>\n    </tr>\n    <tr>\n      <th>12751</th>\n      <td>CRU-00381009-20</td>\n      <td>2020-05-31 23:52:29</td>\n      <td>19</td>\n      <td>Ciudad Bolívar</td>\n      <td>82</td>\n      <td>Años</td>\n      <td>MASCULINO</td>\n      <td>Sur</td>\n      <td>Evento Respiratorio</td>\n      <td>MEDIA</td>\n    </tr>\n    <tr>\n      <th>12752</th>\n      <td>CRU-00381012-20</td>\n      <td>2020-05-31 23:54:30</td>\n      <td>11</td>\n      <td>Suba</td>\n      <td>68</td>\n      <td>Años</td>\n      <td>FEMENINO</td>\n      <td>Norte</td>\n      <td>Enfermo</td>\n      <td>ALTA</td>\n    </tr>\n  </tbody>\n</table>\n<p>12753 rows × 10 columns</p>\n</div>"
     },
     "metadata": {},
     "execution_count": 131
    }
   ],
   "source": [
    "datos202005 = pd.read_csv('./datos/202005.csv', sep=',', encoding='latin1')\n",
    "datos202005.columns=['id','fecha','codigo_localidad','nombre_localidad','edad','unidad_edad','genero','red','tipo_incidente','prioridad']\n",
    "datos202005"
   ]
  },
  {
   "cell_type": "code",
   "execution_count": 133,
   "metadata": {},
   "outputs": [
    {
     "output_type": "execute_result",
     "data": {
      "text/plain": [
       "                    id                fecha  codigo_localidad  \\\n",
       "0      CRU-00381024-20  2020-06-01 00:21:11                 5   \n",
       "1      CRU-00381027-20  2020-06-01 00:25:54                 1   \n",
       "2      CRU-00381028-20  2020-06-01 04:11:45                 8   \n",
       "3      CRU-00381034-20  2020-06-01 00:51:24                 8   \n",
       "4      CRU-00381049-20  2020-06-01 01:00:16                 8   \n",
       "...                ...                  ...               ...   \n",
       "12736  CRU-00392980-20  2020-06-05 07:10:28                 4   \n",
       "12737  CRU-00383509-20  2020-06-01 20:19:41                18   \n",
       "12738  CRU-00382201-20  2020-06-01 12:53:48                 6   \n",
       "12739  CRU-00383509-20  2020-06-01 19:59:12                18   \n",
       "12740  CRU-00410146-20  2020-06-12 08:01:22                10   \n",
       "\n",
       "         nombre_localidad      edad unidad_edad     genero      red  \\\n",
       "0                    Usme  SIN_DATO    SIN_DATO   SIN_DATO      Sur   \n",
       "1                 Usaqun  SIN_DATO    SIN_DATO   SIN_DATO    Norte   \n",
       "2                 Kennedy        50        A¤os  MASCULINO      Sur   \n",
       "3                 Kennedy        80        A¤os  MASCULINO    Norte   \n",
       "4                 Kennedy  SIN_DATO    SIN_DATO   SIN_DATO      Sur   \n",
       "...                   ...       ...         ...        ...      ...   \n",
       "12736       San Crist¢bal        54        A¤os   FEMENINO  Privada   \n",
       "12737  Rafael Uribe Uribe        19        A¤os  MASCULINO  Privada   \n",
       "12738          Tunjuelito        38        A¤os  MASCULINO  Privada   \n",
       "12739  Rafael Uribe Uribe        21        A¤os  MASCULINO  Privada   \n",
       "12740            Engativ         95        A¤os   FEMENINO    Norte   \n",
       "\n",
       "                               tipo_incidente prioridad  \n",
       "0                                  Convulsi¢n      ALTA  \n",
       "1                                      Herido      ALTA  \n",
       "2                         Evento Respiratorio      ALTA  \n",
       "3                  Accidente Cerebro Vascular      ALTA  \n",
       "4                                  Convulsi¢n      ALTA  \n",
       "...                                       ...       ...  \n",
       "12736                                 Enfermo     MEDIA  \n",
       "12737                                  Herido      ALTA  \n",
       "12738                                  Herido      ALTA  \n",
       "12739                                  Herido      ALTA  \n",
       "12740  Inconsciente / Paro cardiorespiratorio   CRITICA  \n",
       "\n",
       "[12741 rows x 10 columns]"
      ],
      "text/html": "<div>\n<style scoped>\n    .dataframe tbody tr th:only-of-type {\n        vertical-align: middle;\n    }\n\n    .dataframe tbody tr th {\n        vertical-align: top;\n    }\n\n    .dataframe thead th {\n        text-align: right;\n    }\n</style>\n<table border=\"1\" class=\"dataframe\">\n  <thead>\n    <tr style=\"text-align: right;\">\n      <th></th>\n      <th>id</th>\n      <th>fecha</th>\n      <th>codigo_localidad</th>\n      <th>nombre_localidad</th>\n      <th>edad</th>\n      <th>unidad_edad</th>\n      <th>genero</th>\n      <th>red</th>\n      <th>tipo_incidente</th>\n      <th>prioridad</th>\n    </tr>\n  </thead>\n  <tbody>\n    <tr>\n      <th>0</th>\n      <td>CRU-00381024-20</td>\n      <td>2020-06-01 00:21:11</td>\n      <td>5</td>\n      <td>Usme</td>\n      <td>SIN_DATO</td>\n      <td>SIN_DATO</td>\n      <td>SIN_DATO</td>\n      <td>Sur</td>\n      <td>Convulsi¢n</td>\n      <td>ALTA</td>\n    </tr>\n    <tr>\n      <th>1</th>\n      <td>CRU-00381027-20</td>\n      <td>2020-06-01 00:25:54</td>\n      <td>1</td>\n      <td>Usaqun</td>\n      <td>SIN_DATO</td>\n      <td>SIN_DATO</td>\n      <td>SIN_DATO</td>\n      <td>Norte</td>\n      <td>Herido</td>\n      <td>ALTA</td>\n    </tr>\n    <tr>\n      <th>2</th>\n      <td>CRU-00381028-20</td>\n      <td>2020-06-01 04:11:45</td>\n      <td>8</td>\n      <td>Kennedy</td>\n      <td>50</td>\n      <td>A¤os</td>\n      <td>MASCULINO</td>\n      <td>Sur</td>\n      <td>Evento Respiratorio</td>\n      <td>ALTA</td>\n    </tr>\n    <tr>\n      <th>3</th>\n      <td>CRU-00381034-20</td>\n      <td>2020-06-01 00:51:24</td>\n      <td>8</td>\n      <td>Kennedy</td>\n      <td>80</td>\n      <td>A¤os</td>\n      <td>MASCULINO</td>\n      <td>Norte</td>\n      <td>Accidente Cerebro Vascular</td>\n      <td>ALTA</td>\n    </tr>\n    <tr>\n      <th>4</th>\n      <td>CRU-00381049-20</td>\n      <td>2020-06-01 01:00:16</td>\n      <td>8</td>\n      <td>Kennedy</td>\n      <td>SIN_DATO</td>\n      <td>SIN_DATO</td>\n      <td>SIN_DATO</td>\n      <td>Sur</td>\n      <td>Convulsi¢n</td>\n      <td>ALTA</td>\n    </tr>\n    <tr>\n      <th>...</th>\n      <td>...</td>\n      <td>...</td>\n      <td>...</td>\n      <td>...</td>\n      <td>...</td>\n      <td>...</td>\n      <td>...</td>\n      <td>...</td>\n      <td>...</td>\n      <td>...</td>\n    </tr>\n    <tr>\n      <th>12736</th>\n      <td>CRU-00392980-20</td>\n      <td>2020-06-05 07:10:28</td>\n      <td>4</td>\n      <td>San Crist¢bal</td>\n      <td>54</td>\n      <td>A¤os</td>\n      <td>FEMENINO</td>\n      <td>Privada</td>\n      <td>Enfermo</td>\n      <td>MEDIA</td>\n    </tr>\n    <tr>\n      <th>12737</th>\n      <td>CRU-00383509-20</td>\n      <td>2020-06-01 20:19:41</td>\n      <td>18</td>\n      <td>Rafael Uribe Uribe</td>\n      <td>19</td>\n      <td>A¤os</td>\n      <td>MASCULINO</td>\n      <td>Privada</td>\n      <td>Herido</td>\n      <td>ALTA</td>\n    </tr>\n    <tr>\n      <th>12738</th>\n      <td>CRU-00382201-20</td>\n      <td>2020-06-01 12:53:48</td>\n      <td>6</td>\n      <td>Tunjuelito</td>\n      <td>38</td>\n      <td>A¤os</td>\n      <td>MASCULINO</td>\n      <td>Privada</td>\n      <td>Herido</td>\n      <td>ALTA</td>\n    </tr>\n    <tr>\n      <th>12739</th>\n      <td>CRU-00383509-20</td>\n      <td>2020-06-01 19:59:12</td>\n      <td>18</td>\n      <td>Rafael Uribe Uribe</td>\n      <td>21</td>\n      <td>A¤os</td>\n      <td>MASCULINO</td>\n      <td>Privada</td>\n      <td>Herido</td>\n      <td>ALTA</td>\n    </tr>\n    <tr>\n      <th>12740</th>\n      <td>CRU-00410146-20</td>\n      <td>2020-06-12 08:01:22</td>\n      <td>10</td>\n      <td>Engativ</td>\n      <td>95</td>\n      <td>A¤os</td>\n      <td>FEMENINO</td>\n      <td>Norte</td>\n      <td>Inconsciente / Paro cardiorespiratorio</td>\n      <td>CRITICA</td>\n    </tr>\n  </tbody>\n</table>\n<p>12741 rows × 10 columns</p>\n</div>"
     },
     "metadata": {},
     "execution_count": 133
    }
   ],
   "source": [
    "datos202006 = pd.read_csv('./datos/202006.csv', sep=',', encoding='latin1')\n",
    "datos202006.columns = ['id','fecha','codigo_localidad','nombre_localidad','edad','unidad_edad','genero','red','tipo_incidente','prioridad']\n",
    "datos202006 = datos202006.merge(codigos_incidente, how='left', left_on='tipo_incidente', right_on='TIPO_INCIDENTE')\n",
    "datos202006['tipo_incidente'] = datos202006['TIPO_INCIDENTE.1']\n",
    "datos202006 = datos202006.iloc[:,0:10]\n",
    "datos202006"
   ]
  },
  {
   "cell_type": "code",
   "execution_count": 135,
   "metadata": {},
   "outputs": [
    {
     "output_type": "execute_result",
     "data": {
      "text/plain": [
       "                    id                fecha  codigo_localidad  \\\n",
       "0      CRU-00459377-20  2020-07-01 02:41:35                11   \n",
       "1      CRU-00459378-20  2020-07-01 00:22:48                18   \n",
       "2      CRU-00459382-20  2020-07-01 00:34:15                 7   \n",
       "3      CRU-00459385-20  2020-07-01 00:45:03                 3   \n",
       "4      CRU-00459392-20  2020-07-01 00:52:01                 8   \n",
       "...                ...                  ...               ...   \n",
       "12108  CRU-00578695-20  2020-07-31 23:36:33                 5   \n",
       "12109  CRU-00578704-20  2020-07-31 23:37:01                12   \n",
       "12110  CRU-00550682-20  2020-07-24 09:43:41                 8   \n",
       "12111  CRU-00573583-20  2020-07-30 13:51:27                 8   \n",
       "12112  CRU-00560656-20  2020-07-27 13:18:08                16   \n",
       "\n",
       "          nombre_localidad      edad unidad_edad     genero      red  \\\n",
       "0                     Suba        56        A¤os  MASCULINO    Norte   \n",
       "1       Rafael Uribe Uribe        24        A¤os   FEMENINO      Sur   \n",
       "2                     Bosa  SIN_DATO    SIN_DATO   SIN_DATO      Sur   \n",
       "3                 Santa Fe        54        A¤os   FEMENINO    Norte   \n",
       "4                  Kennedy  SIN_DATO    SIN_DATO   SIN_DATO      Sur   \n",
       "...                    ...       ...         ...        ...      ...   \n",
       "12108                 Usme  SIN_DATO    SIN_DATO   SIN_DATO  Privada   \n",
       "12109       Barrios Unidos  SIN_DATO    SIN_DATO   SIN_DATO    Norte   \n",
       "12110              Kennedy        44        A¤os  MASCULINO      Sur   \n",
       "12111              Kennedy        84        A¤os  MASCULINO      Sur   \n",
       "12112        Puente Aranda        58        A¤os   FEMENINO      Sur   \n",
       "\n",
       "                               tipo_incidente prioridad  \n",
       "0                         Evento Respiratorio      ALTA  \n",
       "1                                  Convulsi¢n      ALTA  \n",
       "2                         Evento Respiratorio   CRITICA  \n",
       "3                                      Herido      ALTA  \n",
       "4      Inconsciente / Paro cardiorespiratorio   CRITICA  \n",
       "...                                       ...       ...  \n",
       "12108                                  Herido      ALTA  \n",
       "12109  Inconsciente / Paro cardiorespiratorio   CRITICA  \n",
       "12110                          Dolor Tor cico      ALTA  \n",
       "12111                     Evento Respiratorio      ALTA  \n",
       "12112                     Evento Respiratorio      ALTA  \n",
       "\n",
       "[12113 rows x 10 columns]"
      ],
      "text/html": "<div>\n<style scoped>\n    .dataframe tbody tr th:only-of-type {\n        vertical-align: middle;\n    }\n\n    .dataframe tbody tr th {\n        vertical-align: top;\n    }\n\n    .dataframe thead th {\n        text-align: right;\n    }\n</style>\n<table border=\"1\" class=\"dataframe\">\n  <thead>\n    <tr style=\"text-align: right;\">\n      <th></th>\n      <th>id</th>\n      <th>fecha</th>\n      <th>codigo_localidad</th>\n      <th>nombre_localidad</th>\n      <th>edad</th>\n      <th>unidad_edad</th>\n      <th>genero</th>\n      <th>red</th>\n      <th>tipo_incidente</th>\n      <th>prioridad</th>\n    </tr>\n  </thead>\n  <tbody>\n    <tr>\n      <th>0</th>\n      <td>CRU-00459377-20</td>\n      <td>2020-07-01 02:41:35</td>\n      <td>11</td>\n      <td>Suba</td>\n      <td>56</td>\n      <td>A¤os</td>\n      <td>MASCULINO</td>\n      <td>Norte</td>\n      <td>Evento Respiratorio</td>\n      <td>ALTA</td>\n    </tr>\n    <tr>\n      <th>1</th>\n      <td>CRU-00459378-20</td>\n      <td>2020-07-01 00:22:48</td>\n      <td>18</td>\n      <td>Rafael Uribe Uribe</td>\n      <td>24</td>\n      <td>A¤os</td>\n      <td>FEMENINO</td>\n      <td>Sur</td>\n      <td>Convulsi¢n</td>\n      <td>ALTA</td>\n    </tr>\n    <tr>\n      <th>2</th>\n      <td>CRU-00459382-20</td>\n      <td>2020-07-01 00:34:15</td>\n      <td>7</td>\n      <td>Bosa</td>\n      <td>SIN_DATO</td>\n      <td>SIN_DATO</td>\n      <td>SIN_DATO</td>\n      <td>Sur</td>\n      <td>Evento Respiratorio</td>\n      <td>CRITICA</td>\n    </tr>\n    <tr>\n      <th>3</th>\n      <td>CRU-00459385-20</td>\n      <td>2020-07-01 00:45:03</td>\n      <td>3</td>\n      <td>Santa Fe</td>\n      <td>54</td>\n      <td>A¤os</td>\n      <td>FEMENINO</td>\n      <td>Norte</td>\n      <td>Herido</td>\n      <td>ALTA</td>\n    </tr>\n    <tr>\n      <th>4</th>\n      <td>CRU-00459392-20</td>\n      <td>2020-07-01 00:52:01</td>\n      <td>8</td>\n      <td>Kennedy</td>\n      <td>SIN_DATO</td>\n      <td>SIN_DATO</td>\n      <td>SIN_DATO</td>\n      <td>Sur</td>\n      <td>Inconsciente / Paro cardiorespiratorio</td>\n      <td>CRITICA</td>\n    </tr>\n    <tr>\n      <th>...</th>\n      <td>...</td>\n      <td>...</td>\n      <td>...</td>\n      <td>...</td>\n      <td>...</td>\n      <td>...</td>\n      <td>...</td>\n      <td>...</td>\n      <td>...</td>\n      <td>...</td>\n    </tr>\n    <tr>\n      <th>12108</th>\n      <td>CRU-00578695-20</td>\n      <td>2020-07-31 23:36:33</td>\n      <td>5</td>\n      <td>Usme</td>\n      <td>SIN_DATO</td>\n      <td>SIN_DATO</td>\n      <td>SIN_DATO</td>\n      <td>Privada</td>\n      <td>Herido</td>\n      <td>ALTA</td>\n    </tr>\n    <tr>\n      <th>12109</th>\n      <td>CRU-00578704-20</td>\n      <td>2020-07-31 23:37:01</td>\n      <td>12</td>\n      <td>Barrios Unidos</td>\n      <td>SIN_DATO</td>\n      <td>SIN_DATO</td>\n      <td>SIN_DATO</td>\n      <td>Norte</td>\n      <td>Inconsciente / Paro cardiorespiratorio</td>\n      <td>CRITICA</td>\n    </tr>\n    <tr>\n      <th>12110</th>\n      <td>CRU-00550682-20</td>\n      <td>2020-07-24 09:43:41</td>\n      <td>8</td>\n      <td>Kennedy</td>\n      <td>44</td>\n      <td>A¤os</td>\n      <td>MASCULINO</td>\n      <td>Sur</td>\n      <td>Dolor Tor cico</td>\n      <td>ALTA</td>\n    </tr>\n    <tr>\n      <th>12111</th>\n      <td>CRU-00573583-20</td>\n      <td>2020-07-30 13:51:27</td>\n      <td>8</td>\n      <td>Kennedy</td>\n      <td>84</td>\n      <td>A¤os</td>\n      <td>MASCULINO</td>\n      <td>Sur</td>\n      <td>Evento Respiratorio</td>\n      <td>ALTA</td>\n    </tr>\n    <tr>\n      <th>12112</th>\n      <td>CRU-00560656-20</td>\n      <td>2020-07-27 13:18:08</td>\n      <td>16</td>\n      <td>Puente Aranda</td>\n      <td>58</td>\n      <td>A¤os</td>\n      <td>FEMENINO</td>\n      <td>Sur</td>\n      <td>Evento Respiratorio</td>\n      <td>ALTA</td>\n    </tr>\n  </tbody>\n</table>\n<p>12113 rows × 10 columns</p>\n</div>"
     },
     "metadata": {},
     "execution_count": 135
    }
   ],
   "source": [
    "datos202007 = pd.read_csv('./datos/202007.csv', sep=';', encoding='latin1')\n",
    "datos202007.columns = ['id','fecha','codigo_localidad','nombre_localidad','edad','unidad_edad','genero','red','tipo_incidente','prioridad']\n",
    "datos202007"
   ]
  },
  {
   "cell_type": "code",
   "execution_count": 137,
   "metadata": {},
   "outputs": [
    {
     "output_type": "execute_result",
     "data": {
      "text/plain": [
       "                    id                fecha  codigo_localidad  \\\n",
       "0      CRU-00578727-20  2020-08-01 00:22:07               6.0   \n",
       "1      CRU-00578729-20  2020-08-01 00:16:03               8.0   \n",
       "2      CRU-00578741-20  2020-08-01 00:45:28               2.0   \n",
       "3      CRU-00578741-20  2020-08-01 00:39:47               2.0   \n",
       "4      CRU-00578748-20  2020-08-01 01:02:50              18.0   \n",
       "...                ...                  ...               ...   \n",
       "13634              NaN                  NaN               NaN   \n",
       "13635              NaN                  NaN               NaN   \n",
       "13636              NaN                  NaN               NaN   \n",
       "13637              NaN                  NaN               NaN   \n",
       "13638              NaN                  NaN               NaN   \n",
       "\n",
       "         nombre_localidad      edad unidad_edad    genero    red  \\\n",
       "0              Tunjuelito        38        A¤os  FEMENINO    Sur   \n",
       "1                 Kennedy  SIN_DATO    SIN_DATO  SIN_DATO    Sur   \n",
       "2               Chapinero  SIN_DATO    SIN_DATO  SIN_DATO  Norte   \n",
       "3               Chapinero  SIN_DATO    SIN_DATO  SIN_DATO  Norte   \n",
       "4      Rafael Uribe Uribe  SIN_DATO    SIN_DATO  SIN_DATO    Sur   \n",
       "...                   ...       ...         ...       ...    ...   \n",
       "13634                 NaN       NaN         NaN       NaN    NaN   \n",
       "13635                 NaN       NaN         NaN       NaN    NaN   \n",
       "13636                 NaN       NaN         NaN       NaN    NaN   \n",
       "13637                 NaN       NaN         NaN       NaN    NaN   \n",
       "13638                 NaN       NaN         NaN       NaN    NaN   \n",
       "\n",
       "            tipo_incidente prioridad  \n",
       "0                  Enfermo      BAJA  \n",
       "1      Evento Respiratorio      ALTA  \n",
       "2      Intento de Suicidio   CRITICA  \n",
       "3      Intento de Suicidio   CRITICA  \n",
       "4           Dolor Tor cico   CRITICA  \n",
       "...                    ...       ...  \n",
       "13634                  NaN       NaN  \n",
       "13635                  NaN       NaN  \n",
       "13636                  NaN       NaN  \n",
       "13637                  NaN       NaN  \n",
       "13638                  NaN       NaN  \n",
       "\n",
       "[13639 rows x 10 columns]"
      ],
      "text/html": "<div>\n<style scoped>\n    .dataframe tbody tr th:only-of-type {\n        vertical-align: middle;\n    }\n\n    .dataframe tbody tr th {\n        vertical-align: top;\n    }\n\n    .dataframe thead th {\n        text-align: right;\n    }\n</style>\n<table border=\"1\" class=\"dataframe\">\n  <thead>\n    <tr style=\"text-align: right;\">\n      <th></th>\n      <th>id</th>\n      <th>fecha</th>\n      <th>codigo_localidad</th>\n      <th>nombre_localidad</th>\n      <th>edad</th>\n      <th>unidad_edad</th>\n      <th>genero</th>\n      <th>red</th>\n      <th>tipo_incidente</th>\n      <th>prioridad</th>\n    </tr>\n  </thead>\n  <tbody>\n    <tr>\n      <th>0</th>\n      <td>CRU-00578727-20</td>\n      <td>2020-08-01 00:22:07</td>\n      <td>6.0</td>\n      <td>Tunjuelito</td>\n      <td>38</td>\n      <td>A¤os</td>\n      <td>FEMENINO</td>\n      <td>Sur</td>\n      <td>Enfermo</td>\n      <td>BAJA</td>\n    </tr>\n    <tr>\n      <th>1</th>\n      <td>CRU-00578729-20</td>\n      <td>2020-08-01 00:16:03</td>\n      <td>8.0</td>\n      <td>Kennedy</td>\n      <td>SIN_DATO</td>\n      <td>SIN_DATO</td>\n      <td>SIN_DATO</td>\n      <td>Sur</td>\n      <td>Evento Respiratorio</td>\n      <td>ALTA</td>\n    </tr>\n    <tr>\n      <th>2</th>\n      <td>CRU-00578741-20</td>\n      <td>2020-08-01 00:45:28</td>\n      <td>2.0</td>\n      <td>Chapinero</td>\n      <td>SIN_DATO</td>\n      <td>SIN_DATO</td>\n      <td>SIN_DATO</td>\n      <td>Norte</td>\n      <td>Intento de Suicidio</td>\n      <td>CRITICA</td>\n    </tr>\n    <tr>\n      <th>3</th>\n      <td>CRU-00578741-20</td>\n      <td>2020-08-01 00:39:47</td>\n      <td>2.0</td>\n      <td>Chapinero</td>\n      <td>SIN_DATO</td>\n      <td>SIN_DATO</td>\n      <td>SIN_DATO</td>\n      <td>Norte</td>\n      <td>Intento de Suicidio</td>\n      <td>CRITICA</td>\n    </tr>\n    <tr>\n      <th>4</th>\n      <td>CRU-00578748-20</td>\n      <td>2020-08-01 01:02:50</td>\n      <td>18.0</td>\n      <td>Rafael Uribe Uribe</td>\n      <td>SIN_DATO</td>\n      <td>SIN_DATO</td>\n      <td>SIN_DATO</td>\n      <td>Sur</td>\n      <td>Dolor Tor cico</td>\n      <td>CRITICA</td>\n    </tr>\n    <tr>\n      <th>...</th>\n      <td>...</td>\n      <td>...</td>\n      <td>...</td>\n      <td>...</td>\n      <td>...</td>\n      <td>...</td>\n      <td>...</td>\n      <td>...</td>\n      <td>...</td>\n      <td>...</td>\n    </tr>\n    <tr>\n      <th>13634</th>\n      <td>NaN</td>\n      <td>NaN</td>\n      <td>NaN</td>\n      <td>NaN</td>\n      <td>NaN</td>\n      <td>NaN</td>\n      <td>NaN</td>\n      <td>NaN</td>\n      <td>NaN</td>\n      <td>NaN</td>\n    </tr>\n    <tr>\n      <th>13635</th>\n      <td>NaN</td>\n      <td>NaN</td>\n      <td>NaN</td>\n      <td>NaN</td>\n      <td>NaN</td>\n      <td>NaN</td>\n      <td>NaN</td>\n      <td>NaN</td>\n      <td>NaN</td>\n      <td>NaN</td>\n    </tr>\n    <tr>\n      <th>13636</th>\n      <td>NaN</td>\n      <td>NaN</td>\n      <td>NaN</td>\n      <td>NaN</td>\n      <td>NaN</td>\n      <td>NaN</td>\n      <td>NaN</td>\n      <td>NaN</td>\n      <td>NaN</td>\n      <td>NaN</td>\n    </tr>\n    <tr>\n      <th>13637</th>\n      <td>NaN</td>\n      <td>NaN</td>\n      <td>NaN</td>\n      <td>NaN</td>\n      <td>NaN</td>\n      <td>NaN</td>\n      <td>NaN</td>\n      <td>NaN</td>\n      <td>NaN</td>\n      <td>NaN</td>\n    </tr>\n    <tr>\n      <th>13638</th>\n      <td>NaN</td>\n      <td>NaN</td>\n      <td>NaN</td>\n      <td>NaN</td>\n      <td>NaN</td>\n      <td>NaN</td>\n      <td>NaN</td>\n      <td>NaN</td>\n      <td>NaN</td>\n      <td>NaN</td>\n    </tr>\n  </tbody>\n</table>\n<p>13639 rows × 10 columns</p>\n</div>"
     },
     "metadata": {},
     "execution_count": 137
    }
   ],
   "source": [
    "datos202008 = pd.read_csv('./datos/202008.csv', sep=';', encoding='latin1')\n",
    "datos202008.columns = ['id','fecha','codigo_localidad','nombre_localidad','edad','unidad_edad','genero','red','tipo_incidente','prioridad']\n",
    "datos202008"
   ]
  },
  {
   "cell_type": "code",
   "execution_count": 139,
   "metadata": {},
   "outputs": [
    {
     "output_type": "execute_result",
     "data": {
      "text/plain": [
       "                    id             fecha  codigo_localidad  \\\n",
       "0      CRU-00650113-20    1/09/2020 0:28                 8   \n",
       "1      CRU-00650124-20    1/09/2020 0:29                 7   \n",
       "2      CRU-00650125-20    1/09/2020 0:32                 3   \n",
       "3      CRU-00650126-20    1/09/2020 0:35                 3   \n",
       "4      CRU-00650127-20    1/09/2020 2:02                19   \n",
       "...                ...               ...               ...   \n",
       "13260  CRU-00698874-20  30/09/2020 23:53                 7   \n",
       "13261  CRU-00698877-20  30/09/2020 23:39                15   \n",
       "13262  CRU-00698886-20  30/09/2020 23:55                18   \n",
       "13263  CRU-00698887-20  30/09/2020 23:53                10   \n",
       "13264  CRU-00698893-20    1/10/2020 0:15                18   \n",
       "\n",
       "         nombre_localidad      edad unidad_edad     genero    red  \\\n",
       "0                 Kennedy        34        Años   FEMENINO    Sur   \n",
       "1                    Bosa  SIN_DATO    SIN_DATO   SIN_DATO    Sur   \n",
       "2                Santa Fe  SIN_DATO    SIN_DATO   SIN_DATO  Norte   \n",
       "3                Santa Fe  SIN_DATO    SIN_DATO   SIN_DATO  Norte   \n",
       "4          Ciudad Bolivar  SIN_DATO    SIN_DATO   SIN_DATO    Sur   \n",
       "...                   ...       ...         ...        ...    ...   \n",
       "13260                Bosa  SIN_DATO    SIN_DATO   SIN_DATO    Sur   \n",
       "13261      Antonio Nari¤o  SIN_DATO    SIN_DATO   SIN_DATO    Sur   \n",
       "13262  Rafael Uribe Uribe  SIN_DATO    SIN_DATO   SIN_DATO    Sur   \n",
       "13263            Engativa        67        Años  MASCULINO  Norte   \n",
       "13264  Rafael Uribe Uribe        74        Años   FEMENINO    Sur   \n",
       "\n",
       "                               tipo_incidente prioridad  \n",
       "0                         Evento Respiratorio     MEDIA  \n",
       "1                                      Herido      ALTA  \n",
       "2      Inconsciente / Paro cardiorespiratorio   CRITICA  \n",
       "3                         Intento de Suicidio      ALTA  \n",
       "4                         Intento de Suicidio      ALTA  \n",
       "...                                       ...       ...  \n",
       "13260                                  Herido      ALTA  \n",
       "13261  Inconsciente / Paro cardiorespiratorio   CRITICA  \n",
       "13262  Inconsciente / Paro cardiorespiratorio   CRITICA  \n",
       "13263                     Evento Respiratorio      ALTA  \n",
       "13264                                 Enfermo     MEDIA  \n",
       "\n",
       "[13265 rows x 10 columns]"
      ],
      "text/html": "<div>\n<style scoped>\n    .dataframe tbody tr th:only-of-type {\n        vertical-align: middle;\n    }\n\n    .dataframe tbody tr th {\n        vertical-align: top;\n    }\n\n    .dataframe thead th {\n        text-align: right;\n    }\n</style>\n<table border=\"1\" class=\"dataframe\">\n  <thead>\n    <tr style=\"text-align: right;\">\n      <th></th>\n      <th>id</th>\n      <th>fecha</th>\n      <th>codigo_localidad</th>\n      <th>nombre_localidad</th>\n      <th>edad</th>\n      <th>unidad_edad</th>\n      <th>genero</th>\n      <th>red</th>\n      <th>tipo_incidente</th>\n      <th>prioridad</th>\n    </tr>\n  </thead>\n  <tbody>\n    <tr>\n      <th>0</th>\n      <td>CRU-00650113-20</td>\n      <td>1/09/2020 0:28</td>\n      <td>8</td>\n      <td>Kennedy</td>\n      <td>34</td>\n      <td>Años</td>\n      <td>FEMENINO</td>\n      <td>Sur</td>\n      <td>Evento Respiratorio</td>\n      <td>MEDIA</td>\n    </tr>\n    <tr>\n      <th>1</th>\n      <td>CRU-00650124-20</td>\n      <td>1/09/2020 0:29</td>\n      <td>7</td>\n      <td>Bosa</td>\n      <td>SIN_DATO</td>\n      <td>SIN_DATO</td>\n      <td>SIN_DATO</td>\n      <td>Sur</td>\n      <td>Herido</td>\n      <td>ALTA</td>\n    </tr>\n    <tr>\n      <th>2</th>\n      <td>CRU-00650125-20</td>\n      <td>1/09/2020 0:32</td>\n      <td>3</td>\n      <td>Santa Fe</td>\n      <td>SIN_DATO</td>\n      <td>SIN_DATO</td>\n      <td>SIN_DATO</td>\n      <td>Norte</td>\n      <td>Inconsciente / Paro cardiorespiratorio</td>\n      <td>CRITICA</td>\n    </tr>\n    <tr>\n      <th>3</th>\n      <td>CRU-00650126-20</td>\n      <td>1/09/2020 0:35</td>\n      <td>3</td>\n      <td>Santa Fe</td>\n      <td>SIN_DATO</td>\n      <td>SIN_DATO</td>\n      <td>SIN_DATO</td>\n      <td>Norte</td>\n      <td>Intento de Suicidio</td>\n      <td>ALTA</td>\n    </tr>\n    <tr>\n      <th>4</th>\n      <td>CRU-00650127-20</td>\n      <td>1/09/2020 2:02</td>\n      <td>19</td>\n      <td>Ciudad Bolivar</td>\n      <td>SIN_DATO</td>\n      <td>SIN_DATO</td>\n      <td>SIN_DATO</td>\n      <td>Sur</td>\n      <td>Intento de Suicidio</td>\n      <td>ALTA</td>\n    </tr>\n    <tr>\n      <th>...</th>\n      <td>...</td>\n      <td>...</td>\n      <td>...</td>\n      <td>...</td>\n      <td>...</td>\n      <td>...</td>\n      <td>...</td>\n      <td>...</td>\n      <td>...</td>\n      <td>...</td>\n    </tr>\n    <tr>\n      <th>13260</th>\n      <td>CRU-00698874-20</td>\n      <td>30/09/2020 23:53</td>\n      <td>7</td>\n      <td>Bosa</td>\n      <td>SIN_DATO</td>\n      <td>SIN_DATO</td>\n      <td>SIN_DATO</td>\n      <td>Sur</td>\n      <td>Herido</td>\n      <td>ALTA</td>\n    </tr>\n    <tr>\n      <th>13261</th>\n      <td>CRU-00698877-20</td>\n      <td>30/09/2020 23:39</td>\n      <td>15</td>\n      <td>Antonio Nari¤o</td>\n      <td>SIN_DATO</td>\n      <td>SIN_DATO</td>\n      <td>SIN_DATO</td>\n      <td>Sur</td>\n      <td>Inconsciente / Paro cardiorespiratorio</td>\n      <td>CRITICA</td>\n    </tr>\n    <tr>\n      <th>13262</th>\n      <td>CRU-00698886-20</td>\n      <td>30/09/2020 23:55</td>\n      <td>18</td>\n      <td>Rafael Uribe Uribe</td>\n      <td>SIN_DATO</td>\n      <td>SIN_DATO</td>\n      <td>SIN_DATO</td>\n      <td>Sur</td>\n      <td>Inconsciente / Paro cardiorespiratorio</td>\n      <td>CRITICA</td>\n    </tr>\n    <tr>\n      <th>13263</th>\n      <td>CRU-00698887-20</td>\n      <td>30/09/2020 23:53</td>\n      <td>10</td>\n      <td>Engativa</td>\n      <td>67</td>\n      <td>Años</td>\n      <td>MASCULINO</td>\n      <td>Norte</td>\n      <td>Evento Respiratorio</td>\n      <td>ALTA</td>\n    </tr>\n    <tr>\n      <th>13264</th>\n      <td>CRU-00698893-20</td>\n      <td>1/10/2020 0:15</td>\n      <td>18</td>\n      <td>Rafael Uribe Uribe</td>\n      <td>74</td>\n      <td>Años</td>\n      <td>FEMENINO</td>\n      <td>Sur</td>\n      <td>Enfermo</td>\n      <td>MEDIA</td>\n    </tr>\n  </tbody>\n</table>\n<p>13265 rows × 10 columns</p>\n</div>"
     },
     "metadata": {},
     "execution_count": 139
    }
   ],
   "source": [
    "datos202009 = pd.read_csv('./datos/202009.csv', sep=';', encoding='latin1')\n",
    "codigos_incidente = datos202009[['TIPO_INCIDENTE','TIPO_INCIDENTE.1']].drop_duplicates()\n",
    "datos202009 = datos202009.iloc[:,0:10]\n",
    "datos202009.columns = ['id','fecha','codigo_localidad','nombre_localidad','edad','unidad_edad','genero','red','tipo_incidente','prioridad']\n",
    "datos202009 = datos202009.merge(codigos_incidente, how='left', left_on='tipo_incidente', right_on='TIPO_INCIDENTE')\n",
    "datos202009['tipo_incidente'] = datos202009['TIPO_INCIDENTE.1']\n",
    "datos202009 = datos202009.iloc[:,0:10]\n",
    "datos202009"
   ]
  },
  {
   "cell_type": "code",
   "execution_count": 141,
   "metadata": {},
   "outputs": [
    {
     "output_type": "execute_result",
     "data": {
      "text/plain": [
       "                    id                fecha  codigo_localidad  \\\n",
       "0      CRU-00698894-20  2020-10-01 03:13:20              11.0   \n",
       "1      CRU-00698894-20  2020-10-01 03:14:25              11.0   \n",
       "2      CRU-00698895-20  2020-10-01 00:12:47              14.0   \n",
       "3      CRU-00698896-20  2020-10-01 00:09:34              16.0   \n",
       "4      CRU-00698900-20  2020-10-01 00:21:45              10.0   \n",
       "...                ...                  ...               ...   \n",
       "15600  CRU-00754687-20  2020-11-01 01:06:27              10.0   \n",
       "15601  CRU-00724697-20  2020-10-15 18:35:32               2.0   \n",
       "15602  CRU-00735921-20  2020-10-21 15:01:03              10.0   \n",
       "15603  CRU-00742896-20  2020-10-25 11:14:41               8.0   \n",
       "15604              NaN                  NaN               NaN   \n",
       "\n",
       "      nombre_localidad      edad unidad_edad     genero      red  \\\n",
       "0                 Suba        58        A¤os   FEMENINO    Norte   \n",
       "1                 Suba        84        A¤os   FEMENINO    Norte   \n",
       "2         Los M rtires        76        A¤os  MASCULINO    Norte   \n",
       "3        Puente Aranda        17        A¤os  MASCULINO    Norte   \n",
       "4             Engativ         74        A¤os  MASCULINO    Norte   \n",
       "...                ...       ...         ...        ...      ...   \n",
       "15600         Engativ         35        A¤os  MASCULINO    Norte   \n",
       "15601        Chapinero        72        A¤os  MASCULINO    Norte   \n",
       "15602         Engativ   SIN_DATO    SIN_DATO   SIN_DATO  Privada   \n",
       "15603          Kennedy        19        A¤os   FEMENINO      Sur   \n",
       "15604              NaN       NaN         NaN        NaN      NaN   \n",
       "\n",
       "         tipo_incidente prioridad  \n",
       "0      Trastorno Mental     MEDIA  \n",
       "1      Trastorno Mental     MEDIA  \n",
       "2          Intoxicaci¢n      ALTA  \n",
       "3                Herido      ALTA  \n",
       "4               Enfermo     MEDIA  \n",
       "...                 ...       ...  \n",
       "15600  Trastorno Mental     MEDIA  \n",
       "15601           Enfermo     MEDIA  \n",
       "15602            Herido      ALTA  \n",
       "15603            Herido      ALTA  \n",
       "15604               NaN       NaN  \n",
       "\n",
       "[15605 rows x 10 columns]"
      ],
      "text/html": "<div>\n<style scoped>\n    .dataframe tbody tr th:only-of-type {\n        vertical-align: middle;\n    }\n\n    .dataframe tbody tr th {\n        vertical-align: top;\n    }\n\n    .dataframe thead th {\n        text-align: right;\n    }\n</style>\n<table border=\"1\" class=\"dataframe\">\n  <thead>\n    <tr style=\"text-align: right;\">\n      <th></th>\n      <th>id</th>\n      <th>fecha</th>\n      <th>codigo_localidad</th>\n      <th>nombre_localidad</th>\n      <th>edad</th>\n      <th>unidad_edad</th>\n      <th>genero</th>\n      <th>red</th>\n      <th>tipo_incidente</th>\n      <th>prioridad</th>\n    </tr>\n  </thead>\n  <tbody>\n    <tr>\n      <th>0</th>\n      <td>CRU-00698894-20</td>\n      <td>2020-10-01 03:13:20</td>\n      <td>11.0</td>\n      <td>Suba</td>\n      <td>58</td>\n      <td>A¤os</td>\n      <td>FEMENINO</td>\n      <td>Norte</td>\n      <td>Trastorno Mental</td>\n      <td>MEDIA</td>\n    </tr>\n    <tr>\n      <th>1</th>\n      <td>CRU-00698894-20</td>\n      <td>2020-10-01 03:14:25</td>\n      <td>11.0</td>\n      <td>Suba</td>\n      <td>84</td>\n      <td>A¤os</td>\n      <td>FEMENINO</td>\n      <td>Norte</td>\n      <td>Trastorno Mental</td>\n      <td>MEDIA</td>\n    </tr>\n    <tr>\n      <th>2</th>\n      <td>CRU-00698895-20</td>\n      <td>2020-10-01 00:12:47</td>\n      <td>14.0</td>\n      <td>Los M rtires</td>\n      <td>76</td>\n      <td>A¤os</td>\n      <td>MASCULINO</td>\n      <td>Norte</td>\n      <td>Intoxicaci¢n</td>\n      <td>ALTA</td>\n    </tr>\n    <tr>\n      <th>3</th>\n      <td>CRU-00698896-20</td>\n      <td>2020-10-01 00:09:34</td>\n      <td>16.0</td>\n      <td>Puente Aranda</td>\n      <td>17</td>\n      <td>A¤os</td>\n      <td>MASCULINO</td>\n      <td>Norte</td>\n      <td>Herido</td>\n      <td>ALTA</td>\n    </tr>\n    <tr>\n      <th>4</th>\n      <td>CRU-00698900-20</td>\n      <td>2020-10-01 00:21:45</td>\n      <td>10.0</td>\n      <td>Engativ</td>\n      <td>74</td>\n      <td>A¤os</td>\n      <td>MASCULINO</td>\n      <td>Norte</td>\n      <td>Enfermo</td>\n      <td>MEDIA</td>\n    </tr>\n    <tr>\n      <th>...</th>\n      <td>...</td>\n      <td>...</td>\n      <td>...</td>\n      <td>...</td>\n      <td>...</td>\n      <td>...</td>\n      <td>...</td>\n      <td>...</td>\n      <td>...</td>\n      <td>...</td>\n    </tr>\n    <tr>\n      <th>15600</th>\n      <td>CRU-00754687-20</td>\n      <td>2020-11-01 01:06:27</td>\n      <td>10.0</td>\n      <td>Engativ</td>\n      <td>35</td>\n      <td>A¤os</td>\n      <td>MASCULINO</td>\n      <td>Norte</td>\n      <td>Trastorno Mental</td>\n      <td>MEDIA</td>\n    </tr>\n    <tr>\n      <th>15601</th>\n      <td>CRU-00724697-20</td>\n      <td>2020-10-15 18:35:32</td>\n      <td>2.0</td>\n      <td>Chapinero</td>\n      <td>72</td>\n      <td>A¤os</td>\n      <td>MASCULINO</td>\n      <td>Norte</td>\n      <td>Enfermo</td>\n      <td>MEDIA</td>\n    </tr>\n    <tr>\n      <th>15602</th>\n      <td>CRU-00735921-20</td>\n      <td>2020-10-21 15:01:03</td>\n      <td>10.0</td>\n      <td>Engativ</td>\n      <td>SIN_DATO</td>\n      <td>SIN_DATO</td>\n      <td>SIN_DATO</td>\n      <td>Privada</td>\n      <td>Herido</td>\n      <td>ALTA</td>\n    </tr>\n    <tr>\n      <th>15603</th>\n      <td>CRU-00742896-20</td>\n      <td>2020-10-25 11:14:41</td>\n      <td>8.0</td>\n      <td>Kennedy</td>\n      <td>19</td>\n      <td>A¤os</td>\n      <td>FEMENINO</td>\n      <td>Sur</td>\n      <td>Herido</td>\n      <td>ALTA</td>\n    </tr>\n    <tr>\n      <th>15604</th>\n      <td>NaN</td>\n      <td>NaN</td>\n      <td>NaN</td>\n      <td>NaN</td>\n      <td>NaN</td>\n      <td>NaN</td>\n      <td>NaN</td>\n      <td>NaN</td>\n      <td>NaN</td>\n      <td>NaN</td>\n    </tr>\n  </tbody>\n</table>\n<p>15605 rows × 10 columns</p>\n</div>"
     },
     "metadata": {},
     "execution_count": 141
    }
   ],
   "source": [
    "datos202010 = pd.read_csv('./datos/202010.csv', sep=';', encoding='latin1')\n",
    "datos202010.columns = ['id','fecha','codigo_localidad','nombre_localidad','edad','unidad_edad','genero','red','tipo_incidente','prioridad']\n",
    "datos202010"
   ]
  },
  {
   "cell_type": "code",
   "execution_count": 143,
   "metadata": {},
   "outputs": [
    {
     "output_type": "execute_result",
     "data": {
      "text/plain": [
       "                    id                fecha  codigo_localidad  \\\n",
       "0      CRU-00754726-20  2020-11-01 00:25:05               9.0   \n",
       "1      CRU-00754726-20  2020-11-01 00:25:54               9.0   \n",
       "2      CRU-00754803-20  2020-11-01 01:34:49              11.0   \n",
       "3      CRU-00754804-20  2020-11-01 01:33:35              11.0   \n",
       "4      CRU-00755116-20  2020-11-01 05:55:11              14.0   \n",
       "...                ...                  ...               ...   \n",
       "14618              NaN                  NaN               NaN   \n",
       "14619              NaN                  NaN               NaN   \n",
       "14620              NaN                  NaN               NaN   \n",
       "14621              NaN                  NaN               NaN   \n",
       "14622              NaN                  NaN               NaN   \n",
       "\n",
       "      nombre_localidad      edad unidad_edad     genero      red  \\\n",
       "0             Fontib¢n  SIN_DATO    SIN_DATO   SIN_DATO  Privada   \n",
       "1             Fontib¢n  SIN_DATO    SIN_DATO   SIN_DATO  Privada   \n",
       "2                 Suba  SIN_DATO    SIN_DATO   SIN_DATO  Privada   \n",
       "3                 Suba        26        A¤os  MASCULINO  Privada   \n",
       "4         Los M rtires  SIN_DATO    SIN_DATO   SIN_DATO  Privada   \n",
       "...                ...       ...         ...        ...      ...   \n",
       "14618              NaN       NaN         NaN        NaN      NaN   \n",
       "14619              NaN       NaN         NaN        NaN      NaN   \n",
       "14620              NaN       NaN         NaN        NaN      NaN   \n",
       "14621              NaN       NaN         NaN        NaN      NaN   \n",
       "14622              NaN       NaN         NaN        NaN      NaN   \n",
       "\n",
       "      tipo_incidente prioridad  \n",
       "0             Herido      ALTA  \n",
       "1             Herido      ALTA  \n",
       "2             Herido      ALTA  \n",
       "3             Herido      ALTA  \n",
       "4             Herido      ALTA  \n",
       "...              ...       ...  \n",
       "14618            NaN       NaN  \n",
       "14619            NaN       NaN  \n",
       "14620            NaN       NaN  \n",
       "14621            NaN       NaN  \n",
       "14622            NaN       NaN  \n",
       "\n",
       "[14623 rows x 10 columns]"
      ],
      "text/html": "<div>\n<style scoped>\n    .dataframe tbody tr th:only-of-type {\n        vertical-align: middle;\n    }\n\n    .dataframe tbody tr th {\n        vertical-align: top;\n    }\n\n    .dataframe thead th {\n        text-align: right;\n    }\n</style>\n<table border=\"1\" class=\"dataframe\">\n  <thead>\n    <tr style=\"text-align: right;\">\n      <th></th>\n      <th>id</th>\n      <th>fecha</th>\n      <th>codigo_localidad</th>\n      <th>nombre_localidad</th>\n      <th>edad</th>\n      <th>unidad_edad</th>\n      <th>genero</th>\n      <th>red</th>\n      <th>tipo_incidente</th>\n      <th>prioridad</th>\n    </tr>\n  </thead>\n  <tbody>\n    <tr>\n      <th>0</th>\n      <td>CRU-00754726-20</td>\n      <td>2020-11-01 00:25:05</td>\n      <td>9.0</td>\n      <td>Fontib¢n</td>\n      <td>SIN_DATO</td>\n      <td>SIN_DATO</td>\n      <td>SIN_DATO</td>\n      <td>Privada</td>\n      <td>Herido</td>\n      <td>ALTA</td>\n    </tr>\n    <tr>\n      <th>1</th>\n      <td>CRU-00754726-20</td>\n      <td>2020-11-01 00:25:54</td>\n      <td>9.0</td>\n      <td>Fontib¢n</td>\n      <td>SIN_DATO</td>\n      <td>SIN_DATO</td>\n      <td>SIN_DATO</td>\n      <td>Privada</td>\n      <td>Herido</td>\n      <td>ALTA</td>\n    </tr>\n    <tr>\n      <th>2</th>\n      <td>CRU-00754803-20</td>\n      <td>2020-11-01 01:34:49</td>\n      <td>11.0</td>\n      <td>Suba</td>\n      <td>SIN_DATO</td>\n      <td>SIN_DATO</td>\n      <td>SIN_DATO</td>\n      <td>Privada</td>\n      <td>Herido</td>\n      <td>ALTA</td>\n    </tr>\n    <tr>\n      <th>3</th>\n      <td>CRU-00754804-20</td>\n      <td>2020-11-01 01:33:35</td>\n      <td>11.0</td>\n      <td>Suba</td>\n      <td>26</td>\n      <td>A¤os</td>\n      <td>MASCULINO</td>\n      <td>Privada</td>\n      <td>Herido</td>\n      <td>ALTA</td>\n    </tr>\n    <tr>\n      <th>4</th>\n      <td>CRU-00755116-20</td>\n      <td>2020-11-01 05:55:11</td>\n      <td>14.0</td>\n      <td>Los M rtires</td>\n      <td>SIN_DATO</td>\n      <td>SIN_DATO</td>\n      <td>SIN_DATO</td>\n      <td>Privada</td>\n      <td>Herido</td>\n      <td>ALTA</td>\n    </tr>\n    <tr>\n      <th>...</th>\n      <td>...</td>\n      <td>...</td>\n      <td>...</td>\n      <td>...</td>\n      <td>...</td>\n      <td>...</td>\n      <td>...</td>\n      <td>...</td>\n      <td>...</td>\n      <td>...</td>\n    </tr>\n    <tr>\n      <th>14618</th>\n      <td>NaN</td>\n      <td>NaN</td>\n      <td>NaN</td>\n      <td>NaN</td>\n      <td>NaN</td>\n      <td>NaN</td>\n      <td>NaN</td>\n      <td>NaN</td>\n      <td>NaN</td>\n      <td>NaN</td>\n    </tr>\n    <tr>\n      <th>14619</th>\n      <td>NaN</td>\n      <td>NaN</td>\n      <td>NaN</td>\n      <td>NaN</td>\n      <td>NaN</td>\n      <td>NaN</td>\n      <td>NaN</td>\n      <td>NaN</td>\n      <td>NaN</td>\n      <td>NaN</td>\n    </tr>\n    <tr>\n      <th>14620</th>\n      <td>NaN</td>\n      <td>NaN</td>\n      <td>NaN</td>\n      <td>NaN</td>\n      <td>NaN</td>\n      <td>NaN</td>\n      <td>NaN</td>\n      <td>NaN</td>\n      <td>NaN</td>\n      <td>NaN</td>\n    </tr>\n    <tr>\n      <th>14621</th>\n      <td>NaN</td>\n      <td>NaN</td>\n      <td>NaN</td>\n      <td>NaN</td>\n      <td>NaN</td>\n      <td>NaN</td>\n      <td>NaN</td>\n      <td>NaN</td>\n      <td>NaN</td>\n      <td>NaN</td>\n    </tr>\n    <tr>\n      <th>14622</th>\n      <td>NaN</td>\n      <td>NaN</td>\n      <td>NaN</td>\n      <td>NaN</td>\n      <td>NaN</td>\n      <td>NaN</td>\n      <td>NaN</td>\n      <td>NaN</td>\n      <td>NaN</td>\n      <td>NaN</td>\n    </tr>\n  </tbody>\n</table>\n<p>14623 rows × 10 columns</p>\n</div>"
     },
     "metadata": {},
     "execution_count": 143
    }
   ],
   "source": [
    "datos202011 = pd.read_csv('./datos/202011.csv', sep=';', encoding='latin1')\n",
    "datos202011.columns = ['id','fecha','codigo_localidad','nombre_localidad','edad','unidad_edad','genero','red','tipo_incidente','prioridad']\n",
    "datos202011"
   ]
  },
  {
   "cell_type": "code",
   "execution_count": 145,
   "metadata": {},
   "outputs": [
    {
     "output_type": "execute_result",
     "data": {
      "text/plain": [
       "                    id                fecha  codigo_localidad  \\\n",
       "0      CRU-00839344-20  2020-12-17 20:36:10                 4   \n",
       "1      CRU-00806255-20  2020-12-01 00:19:01                10   \n",
       "2      CRU-00806265-20  2020-12-01 00:47:19                11   \n",
       "3      CRU-00806268-20  2020-12-01 01:08:12                16   \n",
       "4      CRU-00806274-20  2020-12-01 01:18:20                 1   \n",
       "...                ...                  ...               ...   \n",
       "14572  CRU-00873676-20  2020-12-31 23:39:42                11   \n",
       "14573  CRU-00873682-20  2020-12-31 23:49:39                16   \n",
       "14574  CRU-00873690-20  2021-01-01 01:42:45                 5   \n",
       "14575  CRU-00873691-20  2020-12-31 23:53:06                11   \n",
       "14576  CRU-00873698-20  2021-01-01 00:33:18                18   \n",
       "\n",
       "         nombre_localidad      edad unidad_edad    genero    red  \\\n",
       "0           SAN CRISTOBAL        91        A¤os         F    Sur   \n",
       "1                ENGATIVA        23        A¤os         M  Norte   \n",
       "2                    SUBA  SIN_DATO    SIN_DATO  SIN_DATO  Norte   \n",
       "3           PUENTE ARANDA        71        A¤os         M  Norte   \n",
       "4                 USAQUEN  SIN_DATO    SIN_DATO  SIN_DATO  Norte   \n",
       "...                   ...       ...         ...       ...    ...   \n",
       "14572                SUBA        67        A¤os         F  Norte   \n",
       "14573       PUENTE ARANDA  SIN_DATO    SIN_DATO  SIN_DATO  Norte   \n",
       "14574                USME  SIN_DATO    SIN_DATO  SIN_DATO    Sur   \n",
       "14575                SUBA        61        A¤os         M  Norte   \n",
       "14576  RAFAEL URIBE URIBE  SIN_DATO    SIN_DATO  SIN_DATO    Sur   \n",
       "\n",
       "                               tipo_incidente prioridad  \n",
       "0                         Evento Respiratorio   CRITICA  \n",
       "1                  Accidente Cerebro Vascular      ALTA  \n",
       "2                         Evento Respiratorio      ALTA  \n",
       "3                         Evento Respiratorio      ALTA  \n",
       "4                              Dolor Tor cico   CRITICA  \n",
       "...                                       ...       ...  \n",
       "14572                                 Enfermo     MEDIA  \n",
       "14573  Inconsciente / Paro cardiorespiratorio   CRITICA  \n",
       "14574             S¡ntomas Gastrointestinales      ALTA  \n",
       "14575                                  Herido      ALTA  \n",
       "14576                                 Enfermo      ALTA  \n",
       "\n",
       "[14577 rows x 10 columns]"
      ],
      "text/html": "<div>\n<style scoped>\n    .dataframe tbody tr th:only-of-type {\n        vertical-align: middle;\n    }\n\n    .dataframe tbody tr th {\n        vertical-align: top;\n    }\n\n    .dataframe thead th {\n        text-align: right;\n    }\n</style>\n<table border=\"1\" class=\"dataframe\">\n  <thead>\n    <tr style=\"text-align: right;\">\n      <th></th>\n      <th>id</th>\n      <th>fecha</th>\n      <th>codigo_localidad</th>\n      <th>nombre_localidad</th>\n      <th>edad</th>\n      <th>unidad_edad</th>\n      <th>genero</th>\n      <th>red</th>\n      <th>tipo_incidente</th>\n      <th>prioridad</th>\n    </tr>\n  </thead>\n  <tbody>\n    <tr>\n      <th>0</th>\n      <td>CRU-00839344-20</td>\n      <td>2020-12-17 20:36:10</td>\n      <td>4</td>\n      <td>SAN CRISTOBAL</td>\n      <td>91</td>\n      <td>A¤os</td>\n      <td>F</td>\n      <td>Sur</td>\n      <td>Evento Respiratorio</td>\n      <td>CRITICA</td>\n    </tr>\n    <tr>\n      <th>1</th>\n      <td>CRU-00806255-20</td>\n      <td>2020-12-01 00:19:01</td>\n      <td>10</td>\n      <td>ENGATIVA</td>\n      <td>23</td>\n      <td>A¤os</td>\n      <td>M</td>\n      <td>Norte</td>\n      <td>Accidente Cerebro Vascular</td>\n      <td>ALTA</td>\n    </tr>\n    <tr>\n      <th>2</th>\n      <td>CRU-00806265-20</td>\n      <td>2020-12-01 00:47:19</td>\n      <td>11</td>\n      <td>SUBA</td>\n      <td>SIN_DATO</td>\n      <td>SIN_DATO</td>\n      <td>SIN_DATO</td>\n      <td>Norte</td>\n      <td>Evento Respiratorio</td>\n      <td>ALTA</td>\n    </tr>\n    <tr>\n      <th>3</th>\n      <td>CRU-00806268-20</td>\n      <td>2020-12-01 01:08:12</td>\n      <td>16</td>\n      <td>PUENTE ARANDA</td>\n      <td>71</td>\n      <td>A¤os</td>\n      <td>M</td>\n      <td>Norte</td>\n      <td>Evento Respiratorio</td>\n      <td>ALTA</td>\n    </tr>\n    <tr>\n      <th>4</th>\n      <td>CRU-00806274-20</td>\n      <td>2020-12-01 01:18:20</td>\n      <td>1</td>\n      <td>USAQUEN</td>\n      <td>SIN_DATO</td>\n      <td>SIN_DATO</td>\n      <td>SIN_DATO</td>\n      <td>Norte</td>\n      <td>Dolor Tor cico</td>\n      <td>CRITICA</td>\n    </tr>\n    <tr>\n      <th>...</th>\n      <td>...</td>\n      <td>...</td>\n      <td>...</td>\n      <td>...</td>\n      <td>...</td>\n      <td>...</td>\n      <td>...</td>\n      <td>...</td>\n      <td>...</td>\n      <td>...</td>\n    </tr>\n    <tr>\n      <th>14572</th>\n      <td>CRU-00873676-20</td>\n      <td>2020-12-31 23:39:42</td>\n      <td>11</td>\n      <td>SUBA</td>\n      <td>67</td>\n      <td>A¤os</td>\n      <td>F</td>\n      <td>Norte</td>\n      <td>Enfermo</td>\n      <td>MEDIA</td>\n    </tr>\n    <tr>\n      <th>14573</th>\n      <td>CRU-00873682-20</td>\n      <td>2020-12-31 23:49:39</td>\n      <td>16</td>\n      <td>PUENTE ARANDA</td>\n      <td>SIN_DATO</td>\n      <td>SIN_DATO</td>\n      <td>SIN_DATO</td>\n      <td>Norte</td>\n      <td>Inconsciente / Paro cardiorespiratorio</td>\n      <td>CRITICA</td>\n    </tr>\n    <tr>\n      <th>14574</th>\n      <td>CRU-00873690-20</td>\n      <td>2021-01-01 01:42:45</td>\n      <td>5</td>\n      <td>USME</td>\n      <td>SIN_DATO</td>\n      <td>SIN_DATO</td>\n      <td>SIN_DATO</td>\n      <td>Sur</td>\n      <td>S¡ntomas Gastrointestinales</td>\n      <td>ALTA</td>\n    </tr>\n    <tr>\n      <th>14575</th>\n      <td>CRU-00873691-20</td>\n      <td>2020-12-31 23:53:06</td>\n      <td>11</td>\n      <td>SUBA</td>\n      <td>61</td>\n      <td>A¤os</td>\n      <td>M</td>\n      <td>Norte</td>\n      <td>Herido</td>\n      <td>ALTA</td>\n    </tr>\n    <tr>\n      <th>14576</th>\n      <td>CRU-00873698-20</td>\n      <td>2021-01-01 00:33:18</td>\n      <td>18</td>\n      <td>RAFAEL URIBE URIBE</td>\n      <td>SIN_DATO</td>\n      <td>SIN_DATO</td>\n      <td>SIN_DATO</td>\n      <td>Sur</td>\n      <td>Enfermo</td>\n      <td>ALTA</td>\n    </tr>\n  </tbody>\n</table>\n<p>14577 rows × 10 columns</p>\n</div>"
     },
     "metadata": {},
     "execution_count": 145
    }
   ],
   "source": [
    "datos202012 = pd.read_csv('./datos/202012.csv', sep=';', encoding='latin1')\n",
    "datos202012.columns = ['id','fecha','codigo_localidad','nombre_localidad','edad','unidad_edad','genero','red','tipo_incidente','prioridad']\n",
    "datos202012"
   ]
  },
  {
   "cell_type": "code",
   "execution_count": 147,
   "metadata": {},
   "outputs": [],
   "source": [
    "datos2020 = pd.concat([datos202001, datos202002, datos202003, datos202004, datos202005, datos202006, datos202007, datos202008, datos202009, datos202010, datos202011, datos202012])\n"
   ]
  },
  {
   "cell_type": "code",
   "execution_count": 149,
   "metadata": {},
   "outputs": [],
   "source": [
    "datos2020 = datos2020.drop_duplicates()"
   ]
  },
  {
   "cell_type": "code",
   "execution_count": 150,
   "metadata": {},
   "outputs": [
    {
     "output_type": "execute_result",
     "data": {
      "text/plain": [
       "                    id                fecha  codigo_localidad  \\\n",
       "0      CRU-00000002-20  2020-01-01 00:13:40              19.0   \n",
       "2      CRU-00000005-20  2020-01-01 00:15:14              14.0   \n",
       "3      CRU-00000024-20  2020-01-01 00:20:50              11.0   \n",
       "4      CRU-00000036-20  2020-01-01 00:26:05              10.0   \n",
       "5      CRU-00000035-20  2020-01-01 00:29:37               4.0   \n",
       "...                ...                  ...               ...   \n",
       "14572  CRU-00873676-20  2020-12-31 23:39:42              11.0   \n",
       "14573  CRU-00873682-20  2020-12-31 23:49:39              16.0   \n",
       "14574  CRU-00873690-20  2021-01-01 01:42:45               5.0   \n",
       "14575  CRU-00873691-20  2020-12-31 23:53:06              11.0   \n",
       "14576  CRU-00873698-20  2021-01-01 00:33:18              18.0   \n",
       "\n",
       "         nombre_localidad      edad unidad_edad     genero    red  \\\n",
       "0          Ciudad Bolívar         0    SIN_DATO   SIN_DATO    Sur   \n",
       "2            Los Mártires         0    SIN_DATO   SIN_DATO  Norte   \n",
       "3                    Suba        58        Años  MASCULINO  Norte   \n",
       "4                Engativá         0    SIN_DATO   SIN_DATO  Norte   \n",
       "5           San Cristóbal        25        Años   FEMENINO    Sur   \n",
       "...                   ...       ...         ...        ...    ...   \n",
       "14572                SUBA        67        A¤os          F  Norte   \n",
       "14573       PUENTE ARANDA  SIN_DATO    SIN_DATO   SIN_DATO  Norte   \n",
       "14574                USME  SIN_DATO    SIN_DATO   SIN_DATO    Sur   \n",
       "14575                SUBA        61        A¤os          M  Norte   \n",
       "14576  RAFAEL URIBE URIBE  SIN_DATO    SIN_DATO   SIN_DATO    Sur   \n",
       "\n",
       "                               tipo_incidente prioridad  \n",
       "0                                    Heridos          2  \n",
       "2      Inconsciente/Paro Cardiorrespiratorio          1  \n",
       "3      Inconsciente/Paro Cardiorrespiratorio          1  \n",
       "4      Inconsciente/Paro Cardiorrespiratorio          1  \n",
       "5                               Convulsiones          1  \n",
       "...                                       ...       ...  \n",
       "14572                                 Enfermo     MEDIA  \n",
       "14573  Inconsciente / Paro cardiorespiratorio   CRITICA  \n",
       "14574             S¡ntomas Gastrointestinales      ALTA  \n",
       "14575                                  Herido      ALTA  \n",
       "14576                                 Enfermo      ALTA  \n",
       "\n",
       "[163395 rows x 10 columns]"
      ],
      "text/html": "<div>\n<style scoped>\n    .dataframe tbody tr th:only-of-type {\n        vertical-align: middle;\n    }\n\n    .dataframe tbody tr th {\n        vertical-align: top;\n    }\n\n    .dataframe thead th {\n        text-align: right;\n    }\n</style>\n<table border=\"1\" class=\"dataframe\">\n  <thead>\n    <tr style=\"text-align: right;\">\n      <th></th>\n      <th>id</th>\n      <th>fecha</th>\n      <th>codigo_localidad</th>\n      <th>nombre_localidad</th>\n      <th>edad</th>\n      <th>unidad_edad</th>\n      <th>genero</th>\n      <th>red</th>\n      <th>tipo_incidente</th>\n      <th>prioridad</th>\n    </tr>\n  </thead>\n  <tbody>\n    <tr>\n      <th>0</th>\n      <td>CRU-00000002-20</td>\n      <td>2020-01-01 00:13:40</td>\n      <td>19.0</td>\n      <td>Ciudad Bolívar</td>\n      <td>0</td>\n      <td>SIN_DATO</td>\n      <td>SIN_DATO</td>\n      <td>Sur</td>\n      <td>Heridos</td>\n      <td>2</td>\n    </tr>\n    <tr>\n      <th>2</th>\n      <td>CRU-00000005-20</td>\n      <td>2020-01-01 00:15:14</td>\n      <td>14.0</td>\n      <td>Los Mártires</td>\n      <td>0</td>\n      <td>SIN_DATO</td>\n      <td>SIN_DATO</td>\n      <td>Norte</td>\n      <td>Inconsciente/Paro Cardiorrespiratorio</td>\n      <td>1</td>\n    </tr>\n    <tr>\n      <th>3</th>\n      <td>CRU-00000024-20</td>\n      <td>2020-01-01 00:20:50</td>\n      <td>11.0</td>\n      <td>Suba</td>\n      <td>58</td>\n      <td>Años</td>\n      <td>MASCULINO</td>\n      <td>Norte</td>\n      <td>Inconsciente/Paro Cardiorrespiratorio</td>\n      <td>1</td>\n    </tr>\n    <tr>\n      <th>4</th>\n      <td>CRU-00000036-20</td>\n      <td>2020-01-01 00:26:05</td>\n      <td>10.0</td>\n      <td>Engativá</td>\n      <td>0</td>\n      <td>SIN_DATO</td>\n      <td>SIN_DATO</td>\n      <td>Norte</td>\n      <td>Inconsciente/Paro Cardiorrespiratorio</td>\n      <td>1</td>\n    </tr>\n    <tr>\n      <th>5</th>\n      <td>CRU-00000035-20</td>\n      <td>2020-01-01 00:29:37</td>\n      <td>4.0</td>\n      <td>San Cristóbal</td>\n      <td>25</td>\n      <td>Años</td>\n      <td>FEMENINO</td>\n      <td>Sur</td>\n      <td>Convulsiones</td>\n      <td>1</td>\n    </tr>\n    <tr>\n      <th>...</th>\n      <td>...</td>\n      <td>...</td>\n      <td>...</td>\n      <td>...</td>\n      <td>...</td>\n      <td>...</td>\n      <td>...</td>\n      <td>...</td>\n      <td>...</td>\n      <td>...</td>\n    </tr>\n    <tr>\n      <th>14572</th>\n      <td>CRU-00873676-20</td>\n      <td>2020-12-31 23:39:42</td>\n      <td>11.0</td>\n      <td>SUBA</td>\n      <td>67</td>\n      <td>A¤os</td>\n      <td>F</td>\n      <td>Norte</td>\n      <td>Enfermo</td>\n      <td>MEDIA</td>\n    </tr>\n    <tr>\n      <th>14573</th>\n      <td>CRU-00873682-20</td>\n      <td>2020-12-31 23:49:39</td>\n      <td>16.0</td>\n      <td>PUENTE ARANDA</td>\n      <td>SIN_DATO</td>\n      <td>SIN_DATO</td>\n      <td>SIN_DATO</td>\n      <td>Norte</td>\n      <td>Inconsciente / Paro cardiorespiratorio</td>\n      <td>CRITICA</td>\n    </tr>\n    <tr>\n      <th>14574</th>\n      <td>CRU-00873690-20</td>\n      <td>2021-01-01 01:42:45</td>\n      <td>5.0</td>\n      <td>USME</td>\n      <td>SIN_DATO</td>\n      <td>SIN_DATO</td>\n      <td>SIN_DATO</td>\n      <td>Sur</td>\n      <td>S¡ntomas Gastrointestinales</td>\n      <td>ALTA</td>\n    </tr>\n    <tr>\n      <th>14575</th>\n      <td>CRU-00873691-20</td>\n      <td>2020-12-31 23:53:06</td>\n      <td>11.0</td>\n      <td>SUBA</td>\n      <td>61</td>\n      <td>A¤os</td>\n      <td>M</td>\n      <td>Norte</td>\n      <td>Herido</td>\n      <td>ALTA</td>\n    </tr>\n    <tr>\n      <th>14576</th>\n      <td>CRU-00873698-20</td>\n      <td>2021-01-01 00:33:18</td>\n      <td>18.0</td>\n      <td>RAFAEL URIBE URIBE</td>\n      <td>SIN_DATO</td>\n      <td>SIN_DATO</td>\n      <td>SIN_DATO</td>\n      <td>Sur</td>\n      <td>Enfermo</td>\n      <td>ALTA</td>\n    </tr>\n  </tbody>\n</table>\n<p>163395 rows × 10 columns</p>\n</div>"
     },
     "metadata": {},
     "execution_count": 150
    }
   ],
   "source": [
    "datos2020"
   ]
  },
  {
   "cell_type": "code",
   "execution_count": 151,
   "metadata": {},
   "outputs": [],
   "source": [
    "datos2020.to_csv('./datos/datos2020.csv', index=False)"
   ]
  },
  {
   "source": [
    "**2019**"
   ],
   "cell_type": "markdown",
   "metadata": {}
  },
  {
   "cell_type": "code",
   "execution_count": 152,
   "metadata": {},
   "outputs": [
    {
     "output_type": "execute_result",
     "data": {
      "text/plain": [
       "           id                fecha  codigo_localidad    nombre_localidad  \\\n",
       "0       No id  2019-01 01 00:00:18                11                Suba   \n",
       "1       No id  2019-01 01 00:00:58                16       Puente Aranda   \n",
       "2       No id  2019-01 01 00:04:31                 3            Santa Fe   \n",
       "3       No id  2019-01 01 00:04:51                10            Engativá   \n",
       "4       No id  2019-01 01 00:08:40                 8             Kennedy   \n",
       "...       ...                  ...               ...                 ...   \n",
       "127309  No id     30/06/2019 23:41                18  Rafael Uribe Uribe   \n",
       "127310  No id     30/06/2019 23:52                 2           Chapinero   \n",
       "127311  No id     30/06/2019 23:53                 5                Usme   \n",
       "127312  No id     30/06/2019 23:54                 1             Usaquén   \n",
       "127313  No id     30/06/2019 23:56                14        Los Mártires   \n",
       "\n",
       "            edad unidad_edad     genero    red  \\\n",
       "0       SIN_DATO    SIN_DATO   SIN_DATO  Norte   \n",
       "1       SIN_DATO    SIN_DATO   SIN_DATO    Sur   \n",
       "2             51        Años   FEMENINO  Norte   \n",
       "3       SIN_DATO    SIN_DATO   SIN_DATO  Norte   \n",
       "4       SIN_DATO    SIN_DATO   SIN_DATO    Sur   \n",
       "...          ...         ...        ...    ...   \n",
       "127309        77        Años  MASCULINO    Sur   \n",
       "127310  SIN_DATO    SIN_DATO   SIN_DATO  Norte   \n",
       "127311        52        Años   FEMENINO    Sur   \n",
       "127312  SIN_DATO    SIN_DATO   SIN_DATO  Norte   \n",
       "127313  SIN_DATO    SIN_DATO   SIN_DATO  Norte   \n",
       "\n",
       "                                   tipo_incidente prioridad  \n",
       "0                             Lesiones personales      ALTA  \n",
       "1       Accidente de tránsito con heridos/Muertos      ALTA  \n",
       "2                                  Dolor torácico      ALTA  \n",
       "3          Inconsciente/Paro Cardiorrespiratorio       ALTA  \n",
       "4                              Herido con pólvora      ALTA  \n",
       "...                                           ...       ...  \n",
       "127309                    Dificultad Respiratoria      ALTA  \n",
       "127310                  Accidente Tránsito Simple      ALTA  \n",
       "127311     Inconsciente/Paro Cardiorrespiratorio       ALTA  \n",
       "127312                        Intento de suicidio      ALTA  \n",
       "127313                        Lesiones personales      ALTA  \n",
       "\n",
       "[127314 rows x 10 columns]"
      ],
      "text/html": "<div>\n<style scoped>\n    .dataframe tbody tr th:only-of-type {\n        vertical-align: middle;\n    }\n\n    .dataframe tbody tr th {\n        vertical-align: top;\n    }\n\n    .dataframe thead th {\n        text-align: right;\n    }\n</style>\n<table border=\"1\" class=\"dataframe\">\n  <thead>\n    <tr style=\"text-align: right;\">\n      <th></th>\n      <th>id</th>\n      <th>fecha</th>\n      <th>codigo_localidad</th>\n      <th>nombre_localidad</th>\n      <th>edad</th>\n      <th>unidad_edad</th>\n      <th>genero</th>\n      <th>red</th>\n      <th>tipo_incidente</th>\n      <th>prioridad</th>\n    </tr>\n  </thead>\n  <tbody>\n    <tr>\n      <th>0</th>\n      <td>No id</td>\n      <td>2019-01 01 00:00:18</td>\n      <td>11</td>\n      <td>Suba</td>\n      <td>SIN_DATO</td>\n      <td>SIN_DATO</td>\n      <td>SIN_DATO</td>\n      <td>Norte</td>\n      <td>Lesiones personales</td>\n      <td>ALTA</td>\n    </tr>\n    <tr>\n      <th>1</th>\n      <td>No id</td>\n      <td>2019-01 01 00:00:58</td>\n      <td>16</td>\n      <td>Puente Aranda</td>\n      <td>SIN_DATO</td>\n      <td>SIN_DATO</td>\n      <td>SIN_DATO</td>\n      <td>Sur</td>\n      <td>Accidente de tránsito con heridos/Muertos</td>\n      <td>ALTA</td>\n    </tr>\n    <tr>\n      <th>2</th>\n      <td>No id</td>\n      <td>2019-01 01 00:04:31</td>\n      <td>3</td>\n      <td>Santa Fe</td>\n      <td>51</td>\n      <td>Años</td>\n      <td>FEMENINO</td>\n      <td>Norte</td>\n      <td>Dolor torácico</td>\n      <td>ALTA</td>\n    </tr>\n    <tr>\n      <th>3</th>\n      <td>No id</td>\n      <td>2019-01 01 00:04:51</td>\n      <td>10</td>\n      <td>Engativá</td>\n      <td>SIN_DATO</td>\n      <td>SIN_DATO</td>\n      <td>SIN_DATO</td>\n      <td>Norte</td>\n      <td>Inconsciente/Paro Cardiorrespiratorio</td>\n      <td>ALTA</td>\n    </tr>\n    <tr>\n      <th>4</th>\n      <td>No id</td>\n      <td>2019-01 01 00:08:40</td>\n      <td>8</td>\n      <td>Kennedy</td>\n      <td>SIN_DATO</td>\n      <td>SIN_DATO</td>\n      <td>SIN_DATO</td>\n      <td>Sur</td>\n      <td>Herido con pólvora</td>\n      <td>ALTA</td>\n    </tr>\n    <tr>\n      <th>...</th>\n      <td>...</td>\n      <td>...</td>\n      <td>...</td>\n      <td>...</td>\n      <td>...</td>\n      <td>...</td>\n      <td>...</td>\n      <td>...</td>\n      <td>...</td>\n      <td>...</td>\n    </tr>\n    <tr>\n      <th>127309</th>\n      <td>No id</td>\n      <td>30/06/2019 23:41</td>\n      <td>18</td>\n      <td>Rafael Uribe Uribe</td>\n      <td>77</td>\n      <td>Años</td>\n      <td>MASCULINO</td>\n      <td>Sur</td>\n      <td>Dificultad Respiratoria</td>\n      <td>ALTA</td>\n    </tr>\n    <tr>\n      <th>127310</th>\n      <td>No id</td>\n      <td>30/06/2019 23:52</td>\n      <td>2</td>\n      <td>Chapinero</td>\n      <td>SIN_DATO</td>\n      <td>SIN_DATO</td>\n      <td>SIN_DATO</td>\n      <td>Norte</td>\n      <td>Accidente Tránsito Simple</td>\n      <td>ALTA</td>\n    </tr>\n    <tr>\n      <th>127311</th>\n      <td>No id</td>\n      <td>30/06/2019 23:53</td>\n      <td>5</td>\n      <td>Usme</td>\n      <td>52</td>\n      <td>Años</td>\n      <td>FEMENINO</td>\n      <td>Sur</td>\n      <td>Inconsciente/Paro Cardiorrespiratorio</td>\n      <td>ALTA</td>\n    </tr>\n    <tr>\n      <th>127312</th>\n      <td>No id</td>\n      <td>30/06/2019 23:54</td>\n      <td>1</td>\n      <td>Usaquén</td>\n      <td>SIN_DATO</td>\n      <td>SIN_DATO</td>\n      <td>SIN_DATO</td>\n      <td>Norte</td>\n      <td>Intento de suicidio</td>\n      <td>ALTA</td>\n    </tr>\n    <tr>\n      <th>127313</th>\n      <td>No id</td>\n      <td>30/06/2019 23:56</td>\n      <td>14</td>\n      <td>Los Mártires</td>\n      <td>SIN_DATO</td>\n      <td>SIN_DATO</td>\n      <td>SIN_DATO</td>\n      <td>Norte</td>\n      <td>Lesiones personales</td>\n      <td>ALTA</td>\n    </tr>\n  </tbody>\n</table>\n<p>127314 rows × 10 columns</p>\n</div>"
     },
     "metadata": {},
     "execution_count": 152
    }
   ],
   "source": [
    "datos201901 = pd.read_csv('./datos/201901.csv', sep=';', encoding='latin1')\n",
    "datos201901.insert(column='id', loc=0, value='No id')\n",
    "datos201901.drop('FECHA_INICIO_DESPLAZAMIENTO_MOVIL', axis=1, inplace=True)\n",
    "datos201901 = datos201901.iloc[:,0:10]\n",
    "datos201901.columns = ['id','fecha','codigo_localidad','nombre_localidad','edad','unidad_edad','genero','red','tipo_incidente','prioridad']\n",
    "datos201901"
   ]
  },
  {
   "cell_type": "code",
   "execution_count": 153,
   "metadata": {},
   "outputs": [
    {
     "output_type": "execute_result",
     "data": {
      "text/plain": [
       "          id                fecha  codigo_localidad     nombre_localidad  \\\n",
       "0      No id  2019-07-01 00:05:08                 8              Kennedy   \n",
       "1      No id  2019-07-01 00:06:57                19       Ciudad Bolivar   \n",
       "2      No id  2019-07-01 00:09:26                 6           Tunjuelito   \n",
       "3      No id  2019-07-01 00:14:42                 8              Kennedy   \n",
       "4      No id  2019-07-01 00:17:13                10             Engativa   \n",
       "...      ...                  ...               ...                  ...   \n",
       "14555  No id  2019-07-31 23:18:21                10             Engativa   \n",
       "14556  No id  2019-07-31 23:21:41                18   Rafael Uribe Uribe   \n",
       "14557  No id  2019-07-31 23:25:49                13          Teusaquillo   \n",
       "14558  No id  2019-07-31 23:26:54                18   Rafael Uribe Uribe   \n",
       "14559  No id  2019-07-31 23:47:00                 1              Usaquen   \n",
       "\n",
       "           edad unidad_edad     genero    red  \\\n",
       "0            39        Años   FEMENINO  Norte   \n",
       "1            69        Años  MASCULINO    Sur   \n",
       "2            25        Años  MASCULINO    Sur   \n",
       "3            65        Años  MASCULINO    Sur   \n",
       "4      SIN_DATO    SIN_DATO   SIN_DATO  Norte   \n",
       "...         ...         ...        ...    ...   \n",
       "14555  SIN_DATO    SIN_DATO   SIN_DATO  Norte   \n",
       "14556        52        Años   FEMENINO    Sur   \n",
       "14557  SIN_DATO    SIN_DATO   SIN_DATO  Norte   \n",
       "14558        78        Años  MASCULINO    Sur   \n",
       "14559        27        Años  MASCULINO  Norte   \n",
       "\n",
       "                                  tipo_incidente prioridad  \n",
       "0                        Dificultad Respiratoria      ALTA  \n",
       "1         Inconsciente/Paro Cardiorrespiratorio       ALTA  \n",
       "2                                        Enfermo     MEDIA  \n",
       "3                            Lesiones personales     MEDIA  \n",
       "4                                        Enfermo     MEDIA  \n",
       "...                                          ...       ...  \n",
       "14555                                   Heridos       ALTA  \n",
       "14556     Inconsciente/Paro Cardiorrespiratorio       ALTA  \n",
       "14557     Inconsciente/Paro Cardiorrespiratorio       ALTA  \n",
       "14558                              Convulsiones       ALTA  \n",
       "14559  Accidente de tránsito con heridos/Muertos      ALTA  \n",
       "\n",
       "[14560 rows x 10 columns]"
      ],
      "text/html": "<div>\n<style scoped>\n    .dataframe tbody tr th:only-of-type {\n        vertical-align: middle;\n    }\n\n    .dataframe tbody tr th {\n        vertical-align: top;\n    }\n\n    .dataframe thead th {\n        text-align: right;\n    }\n</style>\n<table border=\"1\" class=\"dataframe\">\n  <thead>\n    <tr style=\"text-align: right;\">\n      <th></th>\n      <th>id</th>\n      <th>fecha</th>\n      <th>codigo_localidad</th>\n      <th>nombre_localidad</th>\n      <th>edad</th>\n      <th>unidad_edad</th>\n      <th>genero</th>\n      <th>red</th>\n      <th>tipo_incidente</th>\n      <th>prioridad</th>\n    </tr>\n  </thead>\n  <tbody>\n    <tr>\n      <th>0</th>\n      <td>No id</td>\n      <td>2019-07-01 00:05:08</td>\n      <td>8</td>\n      <td>Kennedy</td>\n      <td>39</td>\n      <td>Años</td>\n      <td>FEMENINO</td>\n      <td>Norte</td>\n      <td>Dificultad Respiratoria</td>\n      <td>ALTA</td>\n    </tr>\n    <tr>\n      <th>1</th>\n      <td>No id</td>\n      <td>2019-07-01 00:06:57</td>\n      <td>19</td>\n      <td>Ciudad Bolivar</td>\n      <td>69</td>\n      <td>Años</td>\n      <td>MASCULINO</td>\n      <td>Sur</td>\n      <td>Inconsciente/Paro Cardiorrespiratorio</td>\n      <td>ALTA</td>\n    </tr>\n    <tr>\n      <th>2</th>\n      <td>No id</td>\n      <td>2019-07-01 00:09:26</td>\n      <td>6</td>\n      <td>Tunjuelito</td>\n      <td>25</td>\n      <td>Años</td>\n      <td>MASCULINO</td>\n      <td>Sur</td>\n      <td>Enfermo</td>\n      <td>MEDIA</td>\n    </tr>\n    <tr>\n      <th>3</th>\n      <td>No id</td>\n      <td>2019-07-01 00:14:42</td>\n      <td>8</td>\n      <td>Kennedy</td>\n      <td>65</td>\n      <td>Años</td>\n      <td>MASCULINO</td>\n      <td>Sur</td>\n      <td>Lesiones personales</td>\n      <td>MEDIA</td>\n    </tr>\n    <tr>\n      <th>4</th>\n      <td>No id</td>\n      <td>2019-07-01 00:17:13</td>\n      <td>10</td>\n      <td>Engativa</td>\n      <td>SIN_DATO</td>\n      <td>SIN_DATO</td>\n      <td>SIN_DATO</td>\n      <td>Norte</td>\n      <td>Enfermo</td>\n      <td>MEDIA</td>\n    </tr>\n    <tr>\n      <th>...</th>\n      <td>...</td>\n      <td>...</td>\n      <td>...</td>\n      <td>...</td>\n      <td>...</td>\n      <td>...</td>\n      <td>...</td>\n      <td>...</td>\n      <td>...</td>\n      <td>...</td>\n    </tr>\n    <tr>\n      <th>14555</th>\n      <td>No id</td>\n      <td>2019-07-31 23:18:21</td>\n      <td>10</td>\n      <td>Engativa</td>\n      <td>SIN_DATO</td>\n      <td>SIN_DATO</td>\n      <td>SIN_DATO</td>\n      <td>Norte</td>\n      <td>Heridos</td>\n      <td>ALTA</td>\n    </tr>\n    <tr>\n      <th>14556</th>\n      <td>No id</td>\n      <td>2019-07-31 23:21:41</td>\n      <td>18</td>\n      <td>Rafael Uribe Uribe</td>\n      <td>52</td>\n      <td>Años</td>\n      <td>FEMENINO</td>\n      <td>Sur</td>\n      <td>Inconsciente/Paro Cardiorrespiratorio</td>\n      <td>ALTA</td>\n    </tr>\n    <tr>\n      <th>14557</th>\n      <td>No id</td>\n      <td>2019-07-31 23:25:49</td>\n      <td>13</td>\n      <td>Teusaquillo</td>\n      <td>SIN_DATO</td>\n      <td>SIN_DATO</td>\n      <td>SIN_DATO</td>\n      <td>Norte</td>\n      <td>Inconsciente/Paro Cardiorrespiratorio</td>\n      <td>ALTA</td>\n    </tr>\n    <tr>\n      <th>14558</th>\n      <td>No id</td>\n      <td>2019-07-31 23:26:54</td>\n      <td>18</td>\n      <td>Rafael Uribe Uribe</td>\n      <td>78</td>\n      <td>Años</td>\n      <td>MASCULINO</td>\n      <td>Sur</td>\n      <td>Convulsiones</td>\n      <td>ALTA</td>\n    </tr>\n    <tr>\n      <th>14559</th>\n      <td>No id</td>\n      <td>2019-07-31 23:47:00</td>\n      <td>1</td>\n      <td>Usaquen</td>\n      <td>27</td>\n      <td>Años</td>\n      <td>MASCULINO</td>\n      <td>Norte</td>\n      <td>Accidente de tránsito con heridos/Muertos</td>\n      <td>ALTA</td>\n    </tr>\n  </tbody>\n</table>\n<p>14560 rows × 10 columns</p>\n</div>"
     },
     "metadata": {},
     "execution_count": 153
    }
   ],
   "source": [
    "datos201907 = pd.read_csv('./datos/201907.csv', sep=';', encoding='latin1')\n",
    "datos201907.insert(column='id', loc=0, value='No id')\n",
    "datos201907.drop('FECHA_INICIO_DESPLAZAMIENTO-MOVIL', axis=1, inplace=True)\n",
    "datos201907 = datos201907.iloc[:,0:10]\n",
    "datos201907.columns = ['id','fecha','codigo_localidad','nombre_localidad','edad','unidad_edad','genero','red','tipo_incidente','prioridad']\n",
    "datos201907"
   ]
  },
  {
   "cell_type": "code",
   "execution_count": 154,
   "metadata": {},
   "outputs": [
    {
     "output_type": "execute_result",
     "data": {
      "text/plain": [
       "              id            fecha  codigo_localidad nombre_localidad  \\\n",
       "0      809224194   1/08/2019 0:28                 1          Usaquen   \n",
       "1      809224194   1/08/2019 0:28                 1          Usaquen   \n",
       "2      809240194   1/08/2019 0:15                11             Suba   \n",
       "3      809240194   1/08/2019 0:15                11             Suba   \n",
       "4      809240194   1/08/2019 0:15                11             Suba   \n",
       "...          ...              ...               ...              ...   \n",
       "18136  892657194  8/08/2019 17:26                 7             Bosa   \n",
       "18137  893082194  8/08/2019 18:18                16    Puente Aranda   \n",
       "18138  893602194  8/08/2019 19:29                10         Engativa   \n",
       "18139  893721194  8/08/2019 19:19                10         Engativa   \n",
       "18140  894020194  8/08/2019 19:16                 8          Kennedy   \n",
       "\n",
       "           edad unidad_edad     genero      red  \\\n",
       "0      SIN_DATO    SIN_DATO   SIN_DATO    Norte   \n",
       "1      SIN_DATO    SIN_DATO   SIN_DATO    Norte   \n",
       "2      SIN_DATO    SIN_DATO   SIN_DATO    Norte   \n",
       "3      SIN_DATO    SIN_DATO   SIN_DATO    Norte   \n",
       "4      SIN_DATO    SIN_DATO   SIN_DATO    Norte   \n",
       "...         ...         ...        ...      ...   \n",
       "18136        30        Años  MASCULINO  Privada   \n",
       "18137        17        Años  MASCULINO  Privada   \n",
       "18138  SIN_DATO    SIN_DATO   SIN_DATO  Privada   \n",
       "18139        73        Años  MASCULINO  Privada   \n",
       "18140        27        Años   FEMENINO  Privada   \n",
       "\n",
       "                                  tipo_incidente prioridad  \n",
       "0         Inconsciente/Paro Cardiorrespiratorio       ALTA  \n",
       "1         Inconsciente/Paro Cardiorrespiratorio       ALTA  \n",
       "2                    Accidente cerebro vascular       BAJA  \n",
       "3                    Accidente cerebro vascular       BAJA  \n",
       "4                    Accidente cerebro vascular       BAJA  \n",
       "...                                          ...       ...  \n",
       "18136  Accidente de tránsito con heridos/Muertos      ALTA  \n",
       "18137                                   Heridos      MEDIA  \n",
       "18138  Accidente de tránsito con heridos/Muertos      ALTA  \n",
       "18139  Accidente de tránsito con heridos/Muertos      ALTA  \n",
       "18140  Accidente de tránsito con heridos/Muertos      ALTA  \n",
       "\n",
       "[18141 rows x 10 columns]"
      ],
      "text/html": "<div>\n<style scoped>\n    .dataframe tbody tr th:only-of-type {\n        vertical-align: middle;\n    }\n\n    .dataframe tbody tr th {\n        vertical-align: top;\n    }\n\n    .dataframe thead th {\n        text-align: right;\n    }\n</style>\n<table border=\"1\" class=\"dataframe\">\n  <thead>\n    <tr style=\"text-align: right;\">\n      <th></th>\n      <th>id</th>\n      <th>fecha</th>\n      <th>codigo_localidad</th>\n      <th>nombre_localidad</th>\n      <th>edad</th>\n      <th>unidad_edad</th>\n      <th>genero</th>\n      <th>red</th>\n      <th>tipo_incidente</th>\n      <th>prioridad</th>\n    </tr>\n  </thead>\n  <tbody>\n    <tr>\n      <th>0</th>\n      <td>809224194</td>\n      <td>1/08/2019 0:28</td>\n      <td>1</td>\n      <td>Usaquen</td>\n      <td>SIN_DATO</td>\n      <td>SIN_DATO</td>\n      <td>SIN_DATO</td>\n      <td>Norte</td>\n      <td>Inconsciente/Paro Cardiorrespiratorio</td>\n      <td>ALTA</td>\n    </tr>\n    <tr>\n      <th>1</th>\n      <td>809224194</td>\n      <td>1/08/2019 0:28</td>\n      <td>1</td>\n      <td>Usaquen</td>\n      <td>SIN_DATO</td>\n      <td>SIN_DATO</td>\n      <td>SIN_DATO</td>\n      <td>Norte</td>\n      <td>Inconsciente/Paro Cardiorrespiratorio</td>\n      <td>ALTA</td>\n    </tr>\n    <tr>\n      <th>2</th>\n      <td>809240194</td>\n      <td>1/08/2019 0:15</td>\n      <td>11</td>\n      <td>Suba</td>\n      <td>SIN_DATO</td>\n      <td>SIN_DATO</td>\n      <td>SIN_DATO</td>\n      <td>Norte</td>\n      <td>Accidente cerebro vascular</td>\n      <td>BAJA</td>\n    </tr>\n    <tr>\n      <th>3</th>\n      <td>809240194</td>\n      <td>1/08/2019 0:15</td>\n      <td>11</td>\n      <td>Suba</td>\n      <td>SIN_DATO</td>\n      <td>SIN_DATO</td>\n      <td>SIN_DATO</td>\n      <td>Norte</td>\n      <td>Accidente cerebro vascular</td>\n      <td>BAJA</td>\n    </tr>\n    <tr>\n      <th>4</th>\n      <td>809240194</td>\n      <td>1/08/2019 0:15</td>\n      <td>11</td>\n      <td>Suba</td>\n      <td>SIN_DATO</td>\n      <td>SIN_DATO</td>\n      <td>SIN_DATO</td>\n      <td>Norte</td>\n      <td>Accidente cerebro vascular</td>\n      <td>BAJA</td>\n    </tr>\n    <tr>\n      <th>...</th>\n      <td>...</td>\n      <td>...</td>\n      <td>...</td>\n      <td>...</td>\n      <td>...</td>\n      <td>...</td>\n      <td>...</td>\n      <td>...</td>\n      <td>...</td>\n      <td>...</td>\n    </tr>\n    <tr>\n      <th>18136</th>\n      <td>892657194</td>\n      <td>8/08/2019 17:26</td>\n      <td>7</td>\n      <td>Bosa</td>\n      <td>30</td>\n      <td>Años</td>\n      <td>MASCULINO</td>\n      <td>Privada</td>\n      <td>Accidente de tránsito con heridos/Muertos</td>\n      <td>ALTA</td>\n    </tr>\n    <tr>\n      <th>18137</th>\n      <td>893082194</td>\n      <td>8/08/2019 18:18</td>\n      <td>16</td>\n      <td>Puente Aranda</td>\n      <td>17</td>\n      <td>Años</td>\n      <td>MASCULINO</td>\n      <td>Privada</td>\n      <td>Heridos</td>\n      <td>MEDIA</td>\n    </tr>\n    <tr>\n      <th>18138</th>\n      <td>893602194</td>\n      <td>8/08/2019 19:29</td>\n      <td>10</td>\n      <td>Engativa</td>\n      <td>SIN_DATO</td>\n      <td>SIN_DATO</td>\n      <td>SIN_DATO</td>\n      <td>Privada</td>\n      <td>Accidente de tránsito con heridos/Muertos</td>\n      <td>ALTA</td>\n    </tr>\n    <tr>\n      <th>18139</th>\n      <td>893721194</td>\n      <td>8/08/2019 19:19</td>\n      <td>10</td>\n      <td>Engativa</td>\n      <td>73</td>\n      <td>Años</td>\n      <td>MASCULINO</td>\n      <td>Privada</td>\n      <td>Accidente de tránsito con heridos/Muertos</td>\n      <td>ALTA</td>\n    </tr>\n    <tr>\n      <th>18140</th>\n      <td>894020194</td>\n      <td>8/08/2019 19:16</td>\n      <td>8</td>\n      <td>Kennedy</td>\n      <td>27</td>\n      <td>Años</td>\n      <td>FEMENINO</td>\n      <td>Privada</td>\n      <td>Accidente de tránsito con heridos/Muertos</td>\n      <td>ALTA</td>\n    </tr>\n  </tbody>\n</table>\n<p>18141 rows × 10 columns</p>\n</div>"
     },
     "metadata": {},
     "execution_count": 154
    }
   ],
   "source": [
    "datos201908 = pd.read_csv('./datos/201908.csv', sep=';', encoding='latin1')\n",
    "#datos201908.drop('FECHA_INICIO_DESPLAZAMIENTO-MOVIL', axis=1, inplace=True)\n",
    "datos201908 = datos201908.iloc[:,0:10]\n",
    "datos201908.columns = ['id','fecha','codigo_localidad','nombre_localidad','edad','unidad_edad','genero','red','tipo_incidente','prioridad']\n",
    "datos201908"
   ]
  },
  {
   "cell_type": "code",
   "execution_count": 155,
   "metadata": {},
   "outputs": [
    {
     "output_type": "execute_result",
     "data": {
      "text/plain": [
       "              id                fecha  codigo_localidad     nombre_localidad  \\\n",
       "0      538006196  2019-09-01 00:05:32                18   Rafael Uribe Uribe   \n",
       "1      538024196  2019-09-01 00:12:07                11                 Suba   \n",
       "2      538031196  2019-09-01 00:05:39                 8              Kennedy   \n",
       "3      538084196  2019-09-01 00:13:39                11                 Suba   \n",
       "4      538123196  2019-09-01 00:20:31                 2            Chapinero   \n",
       "...          ...                  ...               ...                  ...   \n",
       "17013  868226196  2019-09-30 23:12:24                 7                 Bosa   \n",
       "17014  868270196  2019-09-30 23:22:18                10             Engativa   \n",
       "17015  868304196  2019-09-30 23:28:36                 4        San Cristobal   \n",
       "17016  868309196  2019-09-30 23:30:30                 8              Kennedy   \n",
       "17017  868367196  2019-09-30 23:50:06                 8              Kennedy   \n",
       "\n",
       "       edad unidad_edad     genero    red  \\\n",
       "0        53        Años  MASCULINO    Sur   \n",
       "1         0         NaN   SIN_DATO  Norte   \n",
       "2        26        Años  MASCULINO  Norte   \n",
       "3        24        Años  MASCULINO  Norte   \n",
       "4         0         NaN   SIN_DATO  Norte   \n",
       "...     ...         ...        ...    ...   \n",
       "17013    61        Años  MASCULINO    Sur   \n",
       "17014     0         NaN   SIN_DATO  Norte   \n",
       "17015     0         NaN   SIN_DATO    Sur   \n",
       "17016    23        Años   FEMENINO    Sur   \n",
       "17017    24        Años  MASCULINO    Sur   \n",
       "\n",
       "                                  tipo_incidente prioridad  \n",
       "0      ACCIDENTE DE TRÁNSITO CON HERIDOS/MUERTOS      ALTA  \n",
       "1      ACCIDENTE DE TRÁNSITO CON HERIDOS/MUERTOS      ALTA  \n",
       "2      ACCIDENTE DE TRÁNSITO CON HERIDOS/MUERTOS      ALTA  \n",
       "3      ACCIDENTE DE TRÁNSITO CON HERIDOS/MUERTOS      ALTA  \n",
       "4         INCONSCIENTE/PARO CARDIORRESPIRATORIO       ALTA  \n",
       "...                                          ...       ...  \n",
       "17013                ACCIDENTE CEREBRO VASCULAR       ALTA  \n",
       "17014                                    ENFERMO      BAJA  \n",
       "17015                        INTENTO DE SUICIDIO      ALTA  \n",
       "17016              PATOLOGÍA GINECO - OBSTÉTRICA      ALTA  \n",
       "17017                             INTOXICACIONES      ALTA  \n",
       "\n",
       "[17018 rows x 10 columns]"
      ],
      "text/html": "<div>\n<style scoped>\n    .dataframe tbody tr th:only-of-type {\n        vertical-align: middle;\n    }\n\n    .dataframe tbody tr th {\n        vertical-align: top;\n    }\n\n    .dataframe thead th {\n        text-align: right;\n    }\n</style>\n<table border=\"1\" class=\"dataframe\">\n  <thead>\n    <tr style=\"text-align: right;\">\n      <th></th>\n      <th>id</th>\n      <th>fecha</th>\n      <th>codigo_localidad</th>\n      <th>nombre_localidad</th>\n      <th>edad</th>\n      <th>unidad_edad</th>\n      <th>genero</th>\n      <th>red</th>\n      <th>tipo_incidente</th>\n      <th>prioridad</th>\n    </tr>\n  </thead>\n  <tbody>\n    <tr>\n      <th>0</th>\n      <td>538006196</td>\n      <td>2019-09-01 00:05:32</td>\n      <td>18</td>\n      <td>Rafael Uribe Uribe</td>\n      <td>53</td>\n      <td>Años</td>\n      <td>MASCULINO</td>\n      <td>Sur</td>\n      <td>ACCIDENTE DE TRÁNSITO CON HERIDOS/MUERTOS</td>\n      <td>ALTA</td>\n    </tr>\n    <tr>\n      <th>1</th>\n      <td>538024196</td>\n      <td>2019-09-01 00:12:07</td>\n      <td>11</td>\n      <td>Suba</td>\n      <td>0</td>\n      <td>NaN</td>\n      <td>SIN_DATO</td>\n      <td>Norte</td>\n      <td>ACCIDENTE DE TRÁNSITO CON HERIDOS/MUERTOS</td>\n      <td>ALTA</td>\n    </tr>\n    <tr>\n      <th>2</th>\n      <td>538031196</td>\n      <td>2019-09-01 00:05:39</td>\n      <td>8</td>\n      <td>Kennedy</td>\n      <td>26</td>\n      <td>Años</td>\n      <td>MASCULINO</td>\n      <td>Norte</td>\n      <td>ACCIDENTE DE TRÁNSITO CON HERIDOS/MUERTOS</td>\n      <td>ALTA</td>\n    </tr>\n    <tr>\n      <th>3</th>\n      <td>538084196</td>\n      <td>2019-09-01 00:13:39</td>\n      <td>11</td>\n      <td>Suba</td>\n      <td>24</td>\n      <td>Años</td>\n      <td>MASCULINO</td>\n      <td>Norte</td>\n      <td>ACCIDENTE DE TRÁNSITO CON HERIDOS/MUERTOS</td>\n      <td>ALTA</td>\n    </tr>\n    <tr>\n      <th>4</th>\n      <td>538123196</td>\n      <td>2019-09-01 00:20:31</td>\n      <td>2</td>\n      <td>Chapinero</td>\n      <td>0</td>\n      <td>NaN</td>\n      <td>SIN_DATO</td>\n      <td>Norte</td>\n      <td>INCONSCIENTE/PARO CARDIORRESPIRATORIO</td>\n      <td>ALTA</td>\n    </tr>\n    <tr>\n      <th>...</th>\n      <td>...</td>\n      <td>...</td>\n      <td>...</td>\n      <td>...</td>\n      <td>...</td>\n      <td>...</td>\n      <td>...</td>\n      <td>...</td>\n      <td>...</td>\n      <td>...</td>\n    </tr>\n    <tr>\n      <th>17013</th>\n      <td>868226196</td>\n      <td>2019-09-30 23:12:24</td>\n      <td>7</td>\n      <td>Bosa</td>\n      <td>61</td>\n      <td>Años</td>\n      <td>MASCULINO</td>\n      <td>Sur</td>\n      <td>ACCIDENTE CEREBRO VASCULAR</td>\n      <td>ALTA</td>\n    </tr>\n    <tr>\n      <th>17014</th>\n      <td>868270196</td>\n      <td>2019-09-30 23:22:18</td>\n      <td>10</td>\n      <td>Engativa</td>\n      <td>0</td>\n      <td>NaN</td>\n      <td>SIN_DATO</td>\n      <td>Norte</td>\n      <td>ENFERMO</td>\n      <td>BAJA</td>\n    </tr>\n    <tr>\n      <th>17015</th>\n      <td>868304196</td>\n      <td>2019-09-30 23:28:36</td>\n      <td>4</td>\n      <td>San Cristobal</td>\n      <td>0</td>\n      <td>NaN</td>\n      <td>SIN_DATO</td>\n      <td>Sur</td>\n      <td>INTENTO DE SUICIDIO</td>\n      <td>ALTA</td>\n    </tr>\n    <tr>\n      <th>17016</th>\n      <td>868309196</td>\n      <td>2019-09-30 23:30:30</td>\n      <td>8</td>\n      <td>Kennedy</td>\n      <td>23</td>\n      <td>Años</td>\n      <td>FEMENINO</td>\n      <td>Sur</td>\n      <td>PATOLOGÍA GINECO - OBSTÉTRICA</td>\n      <td>ALTA</td>\n    </tr>\n    <tr>\n      <th>17017</th>\n      <td>868367196</td>\n      <td>2019-09-30 23:50:06</td>\n      <td>8</td>\n      <td>Kennedy</td>\n      <td>24</td>\n      <td>Años</td>\n      <td>MASCULINO</td>\n      <td>Sur</td>\n      <td>INTOXICACIONES</td>\n      <td>ALTA</td>\n    </tr>\n  </tbody>\n</table>\n<p>17018 rows × 10 columns</p>\n</div>"
     },
     "metadata": {},
     "execution_count": 155
    }
   ],
   "source": [
    "datos201909 = pd.read_csv('./datos/201909.csv', sep=';', encoding='latin1')\n",
    "#datos201909.drop('FECHA_INICIO_DESPLAZAMIENTO-MOVIL', axis=1, inplace=True)\n",
    "datos201909 = datos201909.iloc[:,0:10]\n",
    "datos201909.columns = ['id','fecha','codigo_localidad','nombre_localidad','edad','unidad_edad','genero','red','tipo_incidente','prioridad']\n",
    "datos201909"
   ]
  },
  {
   "cell_type": "code",
   "execution_count": 156,
   "metadata": {},
   "outputs": [
    {
     "output_type": "execute_result",
     "data": {
      "text/plain": [
       "               id                fecha  codigo_localidad nombre_localidad  \\\n",
       "0       868419196  2019-10-01 00:06:29                 9         Fontibon   \n",
       "1       868421196  2019-10-01 00:19:40                10         Engativa   \n",
       "2       868438196  2019-10-01 00:13:20                 4    San Cristobal   \n",
       "3       944374194  2019-10-01 05:30:23                16    Puente Aranda   \n",
       "4       868476196  2019-10-01 00:42:45                 5             Usme   \n",
       "...           ...                  ...               ...              ...   \n",
       "18190  1128631194  2019-10-31 23:23:45                17    La Candelaria   \n",
       "18191  1128688194  2019-10-31 23:29:29                19   Ciudad Bolivar   \n",
       "18192  1162693195  2019-10-18 13:33:43                 1          Usaquen   \n",
       "18193  1085341195  2019-10-10 18:50:51                 9         Fontibon   \n",
       "18194   973308194  2019-10-03 20:23:50                15   Antonio Nariño   \n",
       "\n",
       "           edad unidad_edad     genero      red  \\\n",
       "0      SIN_DATO         NaN        NaN    Norte   \n",
       "1            67        Años  MASCULINO    Norte   \n",
       "2      SIN_DATO         NaN        NaN      Sur   \n",
       "3      SIN_DATO         NaN        NaN  Privada   \n",
       "4             5        Años   FEMENINO      Sur   \n",
       "...         ...         ...        ...      ...   \n",
       "18190        23        Años  MASCULINO    Norte   \n",
       "18191        13        Años  MASCULINO      Sur   \n",
       "18192  SIN_DATO         NaN        NaN    Norte   \n",
       "18193        17        Años   FEMENINO    Norte   \n",
       "18194  SIN_DATO         NaN        NaN      Sur   \n",
       "\n",
       "                                  tipo_incidente prioridad  \n",
       "0                                 Dolor torácico      ALTA  \n",
       "1                                       Heridos       ALTA  \n",
       "2         Inconsciente/Paro Cardiorrespiratorio       ALTA  \n",
       "3                                  Convulsiones       ALTA  \n",
       "4                        Dificultad Respiratoria      ALTA  \n",
       "...                                          ...       ...  \n",
       "18190                                   SIN_DATO  SIN_DATO  \n",
       "18191                                   SIN_DATO  SIN_DATO  \n",
       "18192  Accidente de tránsito con heridos/Muertos      ALTA  \n",
       "18193                                   Heridos       ALTA  \n",
       "18194                    Dificultad Respiratoria      ALTA  \n",
       "\n",
       "[18195 rows x 10 columns]"
      ],
      "text/html": "<div>\n<style scoped>\n    .dataframe tbody tr th:only-of-type {\n        vertical-align: middle;\n    }\n\n    .dataframe tbody tr th {\n        vertical-align: top;\n    }\n\n    .dataframe thead th {\n        text-align: right;\n    }\n</style>\n<table border=\"1\" class=\"dataframe\">\n  <thead>\n    <tr style=\"text-align: right;\">\n      <th></th>\n      <th>id</th>\n      <th>fecha</th>\n      <th>codigo_localidad</th>\n      <th>nombre_localidad</th>\n      <th>edad</th>\n      <th>unidad_edad</th>\n      <th>genero</th>\n      <th>red</th>\n      <th>tipo_incidente</th>\n      <th>prioridad</th>\n    </tr>\n  </thead>\n  <tbody>\n    <tr>\n      <th>0</th>\n      <td>868419196</td>\n      <td>2019-10-01 00:06:29</td>\n      <td>9</td>\n      <td>Fontibon</td>\n      <td>SIN_DATO</td>\n      <td>NaN</td>\n      <td>NaN</td>\n      <td>Norte</td>\n      <td>Dolor torácico</td>\n      <td>ALTA</td>\n    </tr>\n    <tr>\n      <th>1</th>\n      <td>868421196</td>\n      <td>2019-10-01 00:19:40</td>\n      <td>10</td>\n      <td>Engativa</td>\n      <td>67</td>\n      <td>Años</td>\n      <td>MASCULINO</td>\n      <td>Norte</td>\n      <td>Heridos</td>\n      <td>ALTA</td>\n    </tr>\n    <tr>\n      <th>2</th>\n      <td>868438196</td>\n      <td>2019-10-01 00:13:20</td>\n      <td>4</td>\n      <td>San Cristobal</td>\n      <td>SIN_DATO</td>\n      <td>NaN</td>\n      <td>NaN</td>\n      <td>Sur</td>\n      <td>Inconsciente/Paro Cardiorrespiratorio</td>\n      <td>ALTA</td>\n    </tr>\n    <tr>\n      <th>3</th>\n      <td>944374194</td>\n      <td>2019-10-01 05:30:23</td>\n      <td>16</td>\n      <td>Puente Aranda</td>\n      <td>SIN_DATO</td>\n      <td>NaN</td>\n      <td>NaN</td>\n      <td>Privada</td>\n      <td>Convulsiones</td>\n      <td>ALTA</td>\n    </tr>\n    <tr>\n      <th>4</th>\n      <td>868476196</td>\n      <td>2019-10-01 00:42:45</td>\n      <td>5</td>\n      <td>Usme</td>\n      <td>5</td>\n      <td>Años</td>\n      <td>FEMENINO</td>\n      <td>Sur</td>\n      <td>Dificultad Respiratoria</td>\n      <td>ALTA</td>\n    </tr>\n    <tr>\n      <th>...</th>\n      <td>...</td>\n      <td>...</td>\n      <td>...</td>\n      <td>...</td>\n      <td>...</td>\n      <td>...</td>\n      <td>...</td>\n      <td>...</td>\n      <td>...</td>\n      <td>...</td>\n    </tr>\n    <tr>\n      <th>18190</th>\n      <td>1128631194</td>\n      <td>2019-10-31 23:23:45</td>\n      <td>17</td>\n      <td>La Candelaria</td>\n      <td>23</td>\n      <td>Años</td>\n      <td>MASCULINO</td>\n      <td>Norte</td>\n      <td>SIN_DATO</td>\n      <td>SIN_DATO</td>\n    </tr>\n    <tr>\n      <th>18191</th>\n      <td>1128688194</td>\n      <td>2019-10-31 23:29:29</td>\n      <td>19</td>\n      <td>Ciudad Bolivar</td>\n      <td>13</td>\n      <td>Años</td>\n      <td>MASCULINO</td>\n      <td>Sur</td>\n      <td>SIN_DATO</td>\n      <td>SIN_DATO</td>\n    </tr>\n    <tr>\n      <th>18192</th>\n      <td>1162693195</td>\n      <td>2019-10-18 13:33:43</td>\n      <td>1</td>\n      <td>Usaquen</td>\n      <td>SIN_DATO</td>\n      <td>NaN</td>\n      <td>NaN</td>\n      <td>Norte</td>\n      <td>Accidente de tránsito con heridos/Muertos</td>\n      <td>ALTA</td>\n    </tr>\n    <tr>\n      <th>18193</th>\n      <td>1085341195</td>\n      <td>2019-10-10 18:50:51</td>\n      <td>9</td>\n      <td>Fontibon</td>\n      <td>17</td>\n      <td>Años</td>\n      <td>FEMENINO</td>\n      <td>Norte</td>\n      <td>Heridos</td>\n      <td>ALTA</td>\n    </tr>\n    <tr>\n      <th>18194</th>\n      <td>973308194</td>\n      <td>2019-10-03 20:23:50</td>\n      <td>15</td>\n      <td>Antonio Nariño</td>\n      <td>SIN_DATO</td>\n      <td>NaN</td>\n      <td>NaN</td>\n      <td>Sur</td>\n      <td>Dificultad Respiratoria</td>\n      <td>ALTA</td>\n    </tr>\n  </tbody>\n</table>\n<p>18195 rows × 10 columns</p>\n</div>"
     },
     "metadata": {},
     "execution_count": 156
    }
   ],
   "source": [
    "datos201910 = pd.read_csv('./datos/201910.csv', sep=';', encoding='latin1')\n",
    "#datos201910.drop('FECHA_INICIO_DESPLAZAMIENTO-MOVIL', axis=1, inplace=True)\n",
    "#datos201910 = datos201910.iloc[:,0:10]\n",
    "datos201910.columns = ['id','fecha','codigo_localidad','nombre_localidad','edad','unidad_edad','genero','red','tipo_incidente','prioridad']\n",
    "datos201910"
   ]
  },
  {
   "cell_type": "code",
   "execution_count": 157,
   "metadata": {},
   "outputs": [
    {
     "output_type": "execute_result",
     "data": {
      "text/plain": [
       "               id                fecha  codigo_localidad    nombre_localidad  \\\n",
       "0      1129118194  2019-11-01 00:01:16                18  Rafael Uribe Uribe   \n",
       "1      1129198194  2019-11-01 00:14:45                11                Suba   \n",
       "2      1129241194  2019-11-01 00:16:15                 2           Chapinero   \n",
       "3      1129253194  2019-11-01 00:11:37                 7                Bosa   \n",
       "4      1129258194  2019-11-01 00:16:28                11                Suba   \n",
       "...           ...                  ...               ...                 ...   \n",
       "15921  1176356196  2019-11-30 23:59:33                 6          Tunjuelito   \n",
       "15922  1176356196  2019-11-30 23:56:11                 6          Tunjuelito   \n",
       "15923  1176358196  2019-11-30 23:55:55                 9            Fontibon   \n",
       "15924  1176382196  2019-12-01 00:49:00                 8             Kennedy   \n",
       "15925  1176397196  2019-12-01 00:04:47                 6          Tunjuelito   \n",
       "\n",
       "       edad unidad_edad     genero    red  \\\n",
       "0         0    SIN_DATO   SIN_DATO    Sur   \n",
       "1        47        Años  MASCULINO  Norte   \n",
       "2        33        Años  MASCULINO  Norte   \n",
       "3         5        Años   FEMENINO    Sur   \n",
       "4        43        Años   FEMENINO  Norte   \n",
       "...     ...         ...        ...    ...   \n",
       "15921     0    SIN_DATO   SIN_DATO    Sur   \n",
       "15922     0    SIN_DATO   SIN_DATO    Sur   \n",
       "15923     0    SIN_DATO   SIN_DATO  Norte   \n",
       "15924     0    SIN_DATO   SIN_DATO    Sur   \n",
       "15925     0    SIN_DATO   SIN_DATO    Sur   \n",
       "\n",
       "                                  tipo_incidente prioridad  \n",
       "0                         Lesiones personales         ALTA  \n",
       "1                 Accidente cerebro vascular          ALTA  \n",
       "2      Inconsciente/Paro Cardiorrespiratorio          ALTA  \n",
       "3                     Dificultad Respiratoria         ALTA  \n",
       "4                              Dolor torácico         ALTA  \n",
       "...                                          ...       ...  \n",
       "15921  Accidente de tránsito con heridos/Muertos      ALTA  \n",
       "15922  Accidente de tránsito con heridos/Muertos      ALTA  \n",
       "15923  Accidente de tránsito con heridos/Muertos      ALTA  \n",
       "15924                           Convulsiones         MEDIA  \n",
       "15925                     Lesiones personales         ALTA  \n",
       "\n",
       "[15926 rows x 10 columns]"
      ],
      "text/html": "<div>\n<style scoped>\n    .dataframe tbody tr th:only-of-type {\n        vertical-align: middle;\n    }\n\n    .dataframe tbody tr th {\n        vertical-align: top;\n    }\n\n    .dataframe thead th {\n        text-align: right;\n    }\n</style>\n<table border=\"1\" class=\"dataframe\">\n  <thead>\n    <tr style=\"text-align: right;\">\n      <th></th>\n      <th>id</th>\n      <th>fecha</th>\n      <th>codigo_localidad</th>\n      <th>nombre_localidad</th>\n      <th>edad</th>\n      <th>unidad_edad</th>\n      <th>genero</th>\n      <th>red</th>\n      <th>tipo_incidente</th>\n      <th>prioridad</th>\n    </tr>\n  </thead>\n  <tbody>\n    <tr>\n      <th>0</th>\n      <td>1129118194</td>\n      <td>2019-11-01 00:01:16</td>\n      <td>18</td>\n      <td>Rafael Uribe Uribe</td>\n      <td>0</td>\n      <td>SIN_DATO</td>\n      <td>SIN_DATO</td>\n      <td>Sur</td>\n      <td>Lesiones personales</td>\n      <td>ALTA</td>\n    </tr>\n    <tr>\n      <th>1</th>\n      <td>1129198194</td>\n      <td>2019-11-01 00:14:45</td>\n      <td>11</td>\n      <td>Suba</td>\n      <td>47</td>\n      <td>Años</td>\n      <td>MASCULINO</td>\n      <td>Norte</td>\n      <td>Accidente cerebro vascular</td>\n      <td>ALTA</td>\n    </tr>\n    <tr>\n      <th>2</th>\n      <td>1129241194</td>\n      <td>2019-11-01 00:16:15</td>\n      <td>2</td>\n      <td>Chapinero</td>\n      <td>33</td>\n      <td>Años</td>\n      <td>MASCULINO</td>\n      <td>Norte</td>\n      <td>Inconsciente/Paro Cardiorrespiratorio</td>\n      <td>ALTA</td>\n    </tr>\n    <tr>\n      <th>3</th>\n      <td>1129253194</td>\n      <td>2019-11-01 00:11:37</td>\n      <td>7</td>\n      <td>Bosa</td>\n      <td>5</td>\n      <td>Años</td>\n      <td>FEMENINO</td>\n      <td>Sur</td>\n      <td>Dificultad Respiratoria</td>\n      <td>ALTA</td>\n    </tr>\n    <tr>\n      <th>4</th>\n      <td>1129258194</td>\n      <td>2019-11-01 00:16:28</td>\n      <td>11</td>\n      <td>Suba</td>\n      <td>43</td>\n      <td>Años</td>\n      <td>FEMENINO</td>\n      <td>Norte</td>\n      <td>Dolor torácico</td>\n      <td>ALTA</td>\n    </tr>\n    <tr>\n      <th>...</th>\n      <td>...</td>\n      <td>...</td>\n      <td>...</td>\n      <td>...</td>\n      <td>...</td>\n      <td>...</td>\n      <td>...</td>\n      <td>...</td>\n      <td>...</td>\n      <td>...</td>\n    </tr>\n    <tr>\n      <th>15921</th>\n      <td>1176356196</td>\n      <td>2019-11-30 23:59:33</td>\n      <td>6</td>\n      <td>Tunjuelito</td>\n      <td>0</td>\n      <td>SIN_DATO</td>\n      <td>SIN_DATO</td>\n      <td>Sur</td>\n      <td>Accidente de tránsito con heridos/Muertos</td>\n      <td>ALTA</td>\n    </tr>\n    <tr>\n      <th>15922</th>\n      <td>1176356196</td>\n      <td>2019-11-30 23:56:11</td>\n      <td>6</td>\n      <td>Tunjuelito</td>\n      <td>0</td>\n      <td>SIN_DATO</td>\n      <td>SIN_DATO</td>\n      <td>Sur</td>\n      <td>Accidente de tránsito con heridos/Muertos</td>\n      <td>ALTA</td>\n    </tr>\n    <tr>\n      <th>15923</th>\n      <td>1176358196</td>\n      <td>2019-11-30 23:55:55</td>\n      <td>9</td>\n      <td>Fontibon</td>\n      <td>0</td>\n      <td>SIN_DATO</td>\n      <td>SIN_DATO</td>\n      <td>Norte</td>\n      <td>Accidente de tránsito con heridos/Muertos</td>\n      <td>ALTA</td>\n    </tr>\n    <tr>\n      <th>15924</th>\n      <td>1176382196</td>\n      <td>2019-12-01 00:49:00</td>\n      <td>8</td>\n      <td>Kennedy</td>\n      <td>0</td>\n      <td>SIN_DATO</td>\n      <td>SIN_DATO</td>\n      <td>Sur</td>\n      <td>Convulsiones</td>\n      <td>MEDIA</td>\n    </tr>\n    <tr>\n      <th>15925</th>\n      <td>1176397196</td>\n      <td>2019-12-01 00:04:47</td>\n      <td>6</td>\n      <td>Tunjuelito</td>\n      <td>0</td>\n      <td>SIN_DATO</td>\n      <td>SIN_DATO</td>\n      <td>Sur</td>\n      <td>Lesiones personales</td>\n      <td>ALTA</td>\n    </tr>\n  </tbody>\n</table>\n<p>15926 rows × 10 columns</p>\n</div>"
     },
     "metadata": {},
     "execution_count": 157
    }
   ],
   "source": [
    "datos201911 = pd.read_csv('./datos/201911.csv', sep=';', encoding='latin1')\n",
    "#datos201911.drop('FECHA_INICIO_DESPLAZAMIENTO-MOVIL', axis=1, inplace=True)\n",
    "#datos201911 = datos201911.iloc[:,0:10]\n",
    "datos201911.columns = ['id','fecha','codigo_localidad','nombre_localidad','edad','unidad_edad','genero','red','tipo_incidente','prioridad']\n",
    "datos201911"
   ]
  },
  {
   "cell_type": "code",
   "execution_count": 158,
   "metadata": {},
   "outputs": [
    {
     "output_type": "execute_result",
     "data": {
      "text/plain": [
       "               id                fecha  codigo_localidad nombre_localidad  \\\n",
       "0      1178693196  2019-12-01 03:18:23                 8          Kennedy   \n",
       "1      1176480196  2019-12-01 00:05:59                 5             Usme   \n",
       "2      1180282196  2019-12-01 05:37:10                 7             Bosa   \n",
       "3      1176520196  2019-12-01 00:07:43                 3         Santa Fe   \n",
       "4      1180873196  2019-12-01 07:14:08                 5             Usme   \n",
       "...           ...                  ...               ...              ...   \n",
       "16238  1180179196  2019-12-01 05:22:10                19   Ciudad Bolívar   \n",
       "16239  1181092196  2019-12-01 07:48:13                 5             Usme   \n",
       "16240  1181312196  2019-12-01 08:04:29                11             Suba   \n",
       "16241  1180657196  2019-12-01 06:22:44                 4    San Cristóbal   \n",
       "16242  1180972196  2019-12-01 07:12:34                11             Suba   \n",
       "\n",
       "       edad unidad_edad     genero      red  \\\n",
       "0        14        Años  MASCULINO  Privada   \n",
       "1         0    SIN/DATO   SIN/DATO      Sur   \n",
       "2        32        Años  MASCULINO  Privada   \n",
       "3         0    SIN/DATO   SIN/DATO    Norte   \n",
       "4        53        Años   FEMENINO  Privada   \n",
       "...     ...         ...        ...      ...   \n",
       "16238    82        Años  MASCULINO      Sur   \n",
       "16239    45        Años  MASCULINO      Sur   \n",
       "16240     0    SIN/DATO   SIN/DATO    Norte   \n",
       "16241    22        Años  MASCULINO      Sur   \n",
       "16242     0    SIN/DATO   SIN/DATO    Norte   \n",
       "\n",
       "                               tipo_incidente prioridad  \n",
       "0      Accidente Tránsito con Heridos/Muertos      ALTA  \n",
       "1      Accidente Tránsito con Heridos/Muertos      ALTA  \n",
       "2      Accidente Tránsito con Heridos/Muertos      ALTA  \n",
       "3                         Lesiones Personales      ALTA  \n",
       "4      Accidente Tránsito con Heridos/Muertos      ALTA  \n",
       "...                                       ...       ...  \n",
       "16238                     Evento respiratorio      ALTA  \n",
       "16239             Síntomas gastrointestinales      ALTA  \n",
       "16240  Inconsciente / paro cardiorespiratorio      ALTA  \n",
       "16241                              Convulsión      ALTA  \n",
       "16242  Accidente Tránsito con Heridos/Muertos      ALTA  \n",
       "\n",
       "[16243 rows x 10 columns]"
      ],
      "text/html": "<div>\n<style scoped>\n    .dataframe tbody tr th:only-of-type {\n        vertical-align: middle;\n    }\n\n    .dataframe tbody tr th {\n        vertical-align: top;\n    }\n\n    .dataframe thead th {\n        text-align: right;\n    }\n</style>\n<table border=\"1\" class=\"dataframe\">\n  <thead>\n    <tr style=\"text-align: right;\">\n      <th></th>\n      <th>id</th>\n      <th>fecha</th>\n      <th>codigo_localidad</th>\n      <th>nombre_localidad</th>\n      <th>edad</th>\n      <th>unidad_edad</th>\n      <th>genero</th>\n      <th>red</th>\n      <th>tipo_incidente</th>\n      <th>prioridad</th>\n    </tr>\n  </thead>\n  <tbody>\n    <tr>\n      <th>0</th>\n      <td>1178693196</td>\n      <td>2019-12-01 03:18:23</td>\n      <td>8</td>\n      <td>Kennedy</td>\n      <td>14</td>\n      <td>Años</td>\n      <td>MASCULINO</td>\n      <td>Privada</td>\n      <td>Accidente Tránsito con Heridos/Muertos</td>\n      <td>ALTA</td>\n    </tr>\n    <tr>\n      <th>1</th>\n      <td>1176480196</td>\n      <td>2019-12-01 00:05:59</td>\n      <td>5</td>\n      <td>Usme</td>\n      <td>0</td>\n      <td>SIN/DATO</td>\n      <td>SIN/DATO</td>\n      <td>Sur</td>\n      <td>Accidente Tránsito con Heridos/Muertos</td>\n      <td>ALTA</td>\n    </tr>\n    <tr>\n      <th>2</th>\n      <td>1180282196</td>\n      <td>2019-12-01 05:37:10</td>\n      <td>7</td>\n      <td>Bosa</td>\n      <td>32</td>\n      <td>Años</td>\n      <td>MASCULINO</td>\n      <td>Privada</td>\n      <td>Accidente Tránsito con Heridos/Muertos</td>\n      <td>ALTA</td>\n    </tr>\n    <tr>\n      <th>3</th>\n      <td>1176520196</td>\n      <td>2019-12-01 00:07:43</td>\n      <td>3</td>\n      <td>Santa Fe</td>\n      <td>0</td>\n      <td>SIN/DATO</td>\n      <td>SIN/DATO</td>\n      <td>Norte</td>\n      <td>Lesiones Personales</td>\n      <td>ALTA</td>\n    </tr>\n    <tr>\n      <th>4</th>\n      <td>1180873196</td>\n      <td>2019-12-01 07:14:08</td>\n      <td>5</td>\n      <td>Usme</td>\n      <td>53</td>\n      <td>Años</td>\n      <td>FEMENINO</td>\n      <td>Privada</td>\n      <td>Accidente Tránsito con Heridos/Muertos</td>\n      <td>ALTA</td>\n    </tr>\n    <tr>\n      <th>...</th>\n      <td>...</td>\n      <td>...</td>\n      <td>...</td>\n      <td>...</td>\n      <td>...</td>\n      <td>...</td>\n      <td>...</td>\n      <td>...</td>\n      <td>...</td>\n      <td>...</td>\n    </tr>\n    <tr>\n      <th>16238</th>\n      <td>1180179196</td>\n      <td>2019-12-01 05:22:10</td>\n      <td>19</td>\n      <td>Ciudad Bolívar</td>\n      <td>82</td>\n      <td>Años</td>\n      <td>MASCULINO</td>\n      <td>Sur</td>\n      <td>Evento respiratorio</td>\n      <td>ALTA</td>\n    </tr>\n    <tr>\n      <th>16239</th>\n      <td>1181092196</td>\n      <td>2019-12-01 07:48:13</td>\n      <td>5</td>\n      <td>Usme</td>\n      <td>45</td>\n      <td>Años</td>\n      <td>MASCULINO</td>\n      <td>Sur</td>\n      <td>Síntomas gastrointestinales</td>\n      <td>ALTA</td>\n    </tr>\n    <tr>\n      <th>16240</th>\n      <td>1181312196</td>\n      <td>2019-12-01 08:04:29</td>\n      <td>11</td>\n      <td>Suba</td>\n      <td>0</td>\n      <td>SIN/DATO</td>\n      <td>SIN/DATO</td>\n      <td>Norte</td>\n      <td>Inconsciente / paro cardiorespiratorio</td>\n      <td>ALTA</td>\n    </tr>\n    <tr>\n      <th>16241</th>\n      <td>1180657196</td>\n      <td>2019-12-01 06:22:44</td>\n      <td>4</td>\n      <td>San Cristóbal</td>\n      <td>22</td>\n      <td>Años</td>\n      <td>MASCULINO</td>\n      <td>Sur</td>\n      <td>Convulsión</td>\n      <td>ALTA</td>\n    </tr>\n    <tr>\n      <th>16242</th>\n      <td>1180972196</td>\n      <td>2019-12-01 07:12:34</td>\n      <td>11</td>\n      <td>Suba</td>\n      <td>0</td>\n      <td>SIN/DATO</td>\n      <td>SIN/DATO</td>\n      <td>Norte</td>\n      <td>Accidente Tránsito con Heridos/Muertos</td>\n      <td>ALTA</td>\n    </tr>\n  </tbody>\n</table>\n<p>16243 rows × 10 columns</p>\n</div>"
     },
     "metadata": {},
     "execution_count": 158
    }
   ],
   "source": [
    "datos201912 = pd.read_csv('./datos/201912.csv', sep=';', encoding='latin1')\n",
    "#datos201912.drop('FECHA_INICIO_DESPLAZAMIENTO-MOVIL', axis=1, inplace=True)\n",
    "#datos201912 = datos201912.iloc[:,0:10]\n",
    "datos201912.columns = ['id','fecha','codigo_localidad','nombre_localidad','edad','unidad_edad','genero','red','tipo_incidente','prioridad']\n",
    "datos201912"
   ]
  },
  {
   "cell_type": "code",
   "execution_count": 159,
   "metadata": {},
   "outputs": [],
   "source": [
    "datos2019 = pd.concat([datos201901, datos201907, datos201908, datos201909, datos201910, datos201911, datos201912])\n",
    "datos2019 = datos2019.drop_duplicates()"
   ]
  },
  {
   "cell_type": "code",
   "execution_count": 160,
   "metadata": {},
   "outputs": [],
   "source": [
    "datos2019.to_csv('./datos/datos2019.csv', index=False)"
   ]
  }
 ]
}